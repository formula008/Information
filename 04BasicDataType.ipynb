{
  "nbformat": 4,
  "nbformat_minor": 0,
  "metadata": {
    "colab": {
      "provenance": [],
      "authorship_tag": "ABX9TyNjFIFVbDU27DmybF6lZut7",
      "include_colab_link": true
    },
    "kernelspec": {
      "name": "python3",
      "display_name": "Python 3"
    },
    "language_info": {
      "name": "python"
    }
  },
  "cells": [
    {
      "cell_type": "markdown",
      "metadata": {
        "id": "view-in-github",
        "colab_type": "text"
      },
      "source": [
        "<a href=\"https://colab.research.google.com/github/formula008/Information-Posco-HighSchool/blob/main/04BasicDataType.ipynb\" target=\"_parent\"><img src=\"https://colab.research.google.com/assets/colab-badge.svg\" alt=\"Open In Colab\"/></a>"
      ]
    },
    {
      "cell_type": "markdown",
      "source": [
        "# 실습4-1 다음 파이썬 코드의 결과를 예측해보자"
      ],
      "metadata": {
        "id": "vE17pVB1NQKC"
      }
    },
    {
      "cell_type": "code",
      "execution_count": null,
      "metadata": {
        "colab": {
          "base_uri": "https://localhost:8080/"
        },
        "id": "nfQu-LKFBhqZ",
        "outputId": "eb92d0fa-88ad-4faa-feec-852624fb7902"
      },
      "outputs": [
        {
          "output_type": "stream",
          "name": "stdout",
          "text": [
            "My name ishappy.I live inseoul.\n"
          ]
        }
      ],
      "source": [
        "name=\"happy\"\n",
        "location=\"seoul\"\n",
        "print(\"My name is\"+ name + \".\"+\"I live in\"+location+\".\")"
      ]
    },
    {
      "cell_type": "markdown",
      "source": [
        "# 실습4-2 다음 파이썬 코드의 결과를 예측해보자"
      ],
      "metadata": {
        "id": "T0bgDE5sNy_J"
      }
    },
    {
      "cell_type": "code",
      "source": [
        "str1=\"happy python\"\n",
        "str2=\"cheer up\"\n",
        "print(len(str1)+len(str2))"
      ],
      "metadata": {
        "colab": {
          "base_uri": "https://localhost:8080/"
        },
        "id": "Zq_LpHG2N5z4",
        "outputId": "988dcfdb-dd27-45fd-80ff-7bfbcc9e369c"
      },
      "execution_count": null,
      "outputs": [
        {
          "output_type": "stream",
          "name": "stdout",
          "text": [
            "20\n"
          ]
        }
      ]
    },
    {
      "cell_type": "markdown",
      "source": [
        "# 실습4-3 다음 파이썬 코드의 괄호 안 결과를 예측해 보자"
      ],
      "metadata": {
        "id": "0c7mT76APYOJ"
      }
    },
    {
      "cell_type": "code",
      "source": [
        "music=\"beautiful my life\"\n",
        "print(len(music))\n",
        "print(music[:7])\n",
        "print(music[3:])\n",
        "print(music[2:7])"
      ],
      "metadata": {
        "colab": {
          "base_uri": "https://localhost:8080/"
        },
        "id": "pkDZV4IiPj0A",
        "outputId": "828babba-4694-46d2-948e-f3a8a2c07144"
      },
      "execution_count": null,
      "outputs": [
        {
          "output_type": "stream",
          "name": "stdout",
          "text": [
            "17\n",
            "beautif\n",
            "utiful my life\n",
            "autif\n"
          ]
        }
      ]
    },
    {
      "cell_type": "markdown",
      "source": [
        "# 실습4-4 다음 파이썬 코드의 실행결과는 무엇인가?"
      ],
      "metadata": {
        "id": "_CgnBc83RC5x"
      }
    },
    {
      "cell_type": "code",
      "source": [
        "title=\"toy story 4\"\n",
        "print(title[4:9])"
      ],
      "metadata": {
        "colab": {
          "base_uri": "https://localhost:8080/"
        },
        "id": "ddxpBbauRI0Q",
        "outputId": "8f007add-0650-45b9-cf0d-cd97733cf6d9"
      },
      "execution_count": null,
      "outputs": [
        {
          "output_type": "stream",
          "name": "stdout",
          "text": [
            "story\n"
          ]
        }
      ]
    },
    {
      "cell_type": "markdown",
      "source": [
        "# 4장 도전1-1 다음 파이썬 코드의 실행 결과가 나오도록 괄호 안을 채우자"
      ],
      "metadata": {
        "id": "JUZNsrRqRPqA"
      }
    },
    {
      "cell_type": "code",
      "source": [
        "name=\"hong gildong\"\n",
        "family_name=(       )\n",
        "print(family_name)"
      ],
      "metadata": {
        "colab": {
          "base_uri": "https://localhost:8080/"
        },
        "id": "YlBRo-yvReiA",
        "outputId": "8a486724-7f76-4d3f-dc03-728608d4767d"
      },
      "execution_count": null,
      "outputs": [
        {
          "output_type": "stream",
          "name": "stdout",
          "text": [
            "hong\n"
          ]
        }
      ]
    },
    {
      "cell_type": "markdown",
      "source": [
        "# 4장 도전1-2 사용자로부터 연필의 개수와 펜의 개수를 입력받아 총 가격을 계산하는 프로그램을 작성하려고 한다. 그러나 다음 파이썬 코드의 실행 결과, 원하는 결과를 얻을 수 없다. 문제가 되는 명령문을 수정한 후 올라른 실행결과를 출력해 보자"
      ],
      "metadata": {
        "id": "uFs9B-iUSY9w"
      }
    },
    {
      "cell_type": "code",
      "source": [
        "pencil=input(\"연필개수:\")\n",
        "pen=input(\"펜 개수:\")\n",
        "total_price=pencil*400+pen*800\n"
      ],
      "metadata": {
        "colab": {
          "base_uri": "https://localhost:8080/"
        },
        "id": "MuuYYMYzTWMY",
        "outputId": "c3c5598d-dcdd-4a6e-cd63-b0d2ebbd6ea7"
      },
      "execution_count": null,
      "outputs": [
        {
          "output_type": "stream",
          "name": "stdout",
          "text": [
            "연필개수:3\n",
            "펜 개수:19\n",
            "16400\n"
          ]
        }
      ]
    },
    {
      "cell_type": "markdown",
      "source": [
        "# 4장 도전1-3 파이썬 코드를 실행한 결과가 나오게 하기 위해 괄호 안에 들어갈 명령문을 작성해 보자."
      ],
      "metadata": {
        "id": "MCoF5OgbVEy3"
      }
    },
    {
      "cell_type": "code",
      "source": [
        "num1=input()\n",
        "(           )\n",
        "print(num1+6)"
      ],
      "metadata": {
        "colab": {
          "base_uri": "https://localhost:8080/"
        },
        "id": "5lN6rZcARcr5",
        "outputId": "cc726b2c-320f-4d5e-e887-2e07ac6b6e5a"
      },
      "execution_count": null,
      "outputs": [
        {
          "output_type": "stream",
          "name": "stdout",
          "text": [
            "14\n",
            "20\n"
          ]
        }
      ]
    },
    {
      "cell_type": "markdown",
      "source": [
        "# 4장 도전2-1 3과목의 점수를 입력받아 합계와 평균을 계산하는 파이썬 프로그램을 작성하시오.\n",
        "- 사용자로부터 3개의 과목 점수를 각 각 입력받는다.\n",
        "- 변수명 : a, b, c\n",
        "- 합계, 평균은 변수로 선언한다.\n",
        "- 변수명 : sum, avg"
      ],
      "metadata": {
        "id": "rWMAzsWoWj_H"
      }
    },
    {
      "cell_type": "code",
      "source": [
        "\n",
        "\n",
        "\n",
        "\n",
        "\n",
        "\n"
      ],
      "metadata": {
        "colab": {
          "base_uri": "https://localhost:8080/"
        },
        "id": "befMsc-jWYWX",
        "outputId": "60f4a1db-eb59-4a0d-ec27-56ac905ed005"
      },
      "execution_count": null,
      "outputs": [
        {
          "output_type": "stream",
          "name": "stdout",
          "text": [
            " A과목:90\n",
            " B과목:90\n",
            " C과목:0\n",
            "합계: 180\n",
            "평균 60.0\n"
          ]
        }
      ]
    },
    {
      "cell_type": "markdown",
      "source": [
        "# 4장 도전2-2 음원제공 사이트에서 10주년 기념으로 구입하는 음악의 30%를 할인해 주고 있다. 구입하는 음악의 총 가격을 계산해 주는 파이썬 프로그램을 작성하시오.\n",
        "- 음원 1개당 400원이다.\n",
        "- 총 가격의 30%을 할인한다.\n",
        "- 총 가격, 음악개수는 변수로 선언한다.\n",
        "- 변수명 : count, price"
      ],
      "metadata": {
        "id": "oTVxQ8a6X_Au"
      }
    },
    {
      "cell_type": "code",
      "source": [
        "\n",
        "\n",
        "\n",
        "\n"
      ],
      "metadata": {
        "colab": {
          "base_uri": "https://localhost:8080/"
        },
        "id": "3p1CpP9ZZO5U",
        "outputId": "13dc67d6-e080-4110-d023-2d53774678b3"
      },
      "execution_count": null,
      "outputs": [
        {
          "output_type": "stream",
          "name": "stdout",
          "text": [
            "구입 음악 개수:9\n",
            "총 가격: 3600 원\n",
            "할인가격 1080 원\n",
            "총 구입 가격: 2520 원\n"
          ]
        }
      ]
    },
    {
      "cell_type": "markdown",
      "source": [
        "# 4장 도전2-3 이름과 연락처를 입력받아 연락처의 경우 '-'기호를 제외하고 저장하는 어플을 만들고자 한다. 파이썬 프로그램을 작성하시오.\n",
        "- 사용자로부터 이름과 연락처를 입력받는다.\n",
        "- 연락처의 경우 slice를 이용하여 '-'를 제거한다.\n",
        "- 이름과 연락처는 변수로 선언한다.\n",
        "- 변수명 : name, tel"
      ],
      "metadata": {
        "id": "thctMucgZgDl"
      }
    },
    {
      "cell_type": "code",
      "source": [
        "\n",
        "\n"
      ],
      "metadata": {
        "colab": {
          "base_uri": "https://localhost:8080/"
        },
        "id": "O5wkxuVNaHzW",
        "outputId": "43bfabda-0259-4e84-af77-7671c0b0dee6"
      },
      "execution_count": null,
      "outputs": [
        {
          "output_type": "stream",
          "name": "stdout",
          "text": [
            "이름:황태준\n",
            "연락처:010-6232-9355\n",
            "황태준 01062329355\n"
          ]
        }
      ]
    }
  ]
}