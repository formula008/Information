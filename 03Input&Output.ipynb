{
  "nbformat": 4,
  "nbformat_minor": 0,
  "metadata": {
    "colab": {
      "provenance": [],
      "authorship_tag": "ABX9TyPT6u/q9ETCPLqSEk0ztZqF",
      "include_colab_link": true
    },
    "kernelspec": {
      "name": "python3",
      "display_name": "Python 3"
    },
    "language_info": {
      "name": "python"
    }
  },
  "cells": [
    {
      "cell_type": "markdown",
      "metadata": {
        "id": "view-in-github",
        "colab_type": "text"
      },
      "source": [
        "<a href=\"https://colab.research.google.com/github/formula008/Information-Posco-HighSchool/blob/main/03Input%26Output.ipynb\" target=\"_parent\"><img src=\"https://colab.research.google.com/assets/colab-badge.svg\" alt=\"Open In Colab\"/></a>"
      ]
    },
    {
      "cell_type": "markdown",
      "source": [
        "# 예제3-1 입력의 기본 형태"
      ],
      "metadata": {
        "id": "wtnxpHumahKv"
      }
    },
    {
      "cell_type": "code",
      "execution_count": null,
      "metadata": {
        "id": "yH06g7EXaTC6"
      },
      "outputs": [],
      "source": [
        "input('이름 입력: ')"
      ]
    },
    {
      "cell_type": "markdown",
      "source": [
        "# 예제3-2 입력 자료 저장"
      ],
      "metadata": {
        "id": "c1v5R05Kbl7p"
      }
    },
    {
      "cell_type": "code",
      "source": [
        "name = input('이름을 입력하세요. ')\n",
        "print(name)"
      ],
      "metadata": {
        "id": "jHER-7GLbuPo"
      },
      "execution_count": null,
      "outputs": []
    },
    {
      "cell_type": "markdown",
      "source": [
        "# 예제3-3 문자열로 입력된 자료"
      ],
      "metadata": {
        "id": "hPLY8l82b3gZ"
      }
    },
    {
      "cell_type": "code",
      "source": [
        "a = input('첫 번째 숫자 입력: ')\n",
        "b = input('두 번째 숫자 입력: ')\n",
        "print(a+b)"
      ],
      "metadata": {
        "id": "hcfbfFo1cJB4"
      },
      "execution_count": null,
      "outputs": []
    },
    {
      "cell_type": "markdown",
      "source": [
        "# 예제3-4 정수형으로 입력된 자료"
      ],
      "metadata": {
        "id": "OZ-tU-9ScVKA"
      }
    },
    {
      "cell_type": "code",
      "source": [
        "a = int(input('첫 번째 숫자 입력: '))\n",
        "b = int(input('두 번째 숫자 입력: '))\n",
        "print(a+b)"
      ],
      "metadata": {
        "id": "hFvI4Eu0cccQ"
      },
      "execution_count": null,
      "outputs": []
    },
    {
      "cell_type": "markdown",
      "source": [
        "# 예제3-5 실수형으로 입력된 자료"
      ],
      "metadata": {
        "id": "0WSqP_Qect7Q"
      }
    },
    {
      "cell_type": "code",
      "source": [
        "c = float(input('숫자 입력: '))\n",
        "print(c)"
      ],
      "metadata": {
        "id": "2QnzQq5XcxcP"
      },
      "execution_count": null,
      "outputs": []
    },
    {
      "cell_type": "markdown",
      "source": [
        "# 예제3-6 출력의 기본 형태"
      ],
      "metadata": {
        "id": "I6f84OvrfyjI"
      }
    },
    {
      "cell_type": "code",
      "source": [
        "print('파이선으로 출력')"
      ],
      "metadata": {
        "id": "m4K_2TQegBaJ"
      },
      "execution_count": null,
      "outputs": []
    },
    {
      "cell_type": "markdown",
      "source": [
        "# 예제3-7 콤마(,)로 구분하여 출력"
      ],
      "metadata": {
        "id": "FoExyaVfgGX4"
      }
    },
    {
      "cell_type": "code",
      "source": [
        "name = input('이름 입력: ')\n",
        "print('입력하신 이름은', name)"
      ],
      "metadata": {
        "id": "nAgOmBeCgKYh"
      },
      "execution_count": null,
      "outputs": []
    },
    {
      "cell_type": "markdown",
      "source": [
        "# 예제3-8 %s 형식지정자를 이용하여 출력"
      ],
      "metadata": {
        "id": "RH7xjFDfgawR"
      }
    },
    {
      "cell_type": "code",
      "source": [
        "name = input('이름 입력: ')\n",
        "print('입력하신 이름은 %s' % name)"
      ],
      "metadata": {
        "id": "RvRNll6agk2I"
      },
      "execution_count": null,
      "outputs": []
    },
    {
      "cell_type": "markdown",
      "source": [
        "# 예제3-9 %d 형식지정자를 이용하여 출력"
      ],
      "metadata": {
        "id": "9suorigvg1Ii"
      }
    },
    {
      "cell_type": "code",
      "source": [
        "a = int(input('첫 번째 숫자 입력: '))\n",
        "b = int(input('두 번째 숫자 입력: '))\n",
        "print('%d + %d = %d' % (a, b, a+b))"
      ],
      "metadata": {
        "id": "gUk2ROthgk3B"
      },
      "execution_count": null,
      "outputs": []
    },
    {
      "cell_type": "markdown",
      "source": [
        "# 예제3-10 %f 형식지정자를 이용하여 출력"
      ],
      "metadata": {
        "id": "D-GHjGWihC_q"
      }
    },
    {
      "cell_type": "code",
      "source": [
        "a = int(input('첫 번째 숫자 입력: '))\n",
        "b = int(input('두 번째 숫자 입력: '))\n",
        "print('%d / %d = %f' % (a, b, a/b))"
      ],
      "metadata": {
        "id": "1-RaQvdBhKCg"
      },
      "execution_count": null,
      "outputs": []
    },
    {
      "cell_type": "markdown",
      "source": [
        "# 예제3-11 format()함수를이용하여 출력"
      ],
      "metadata": {
        "id": "AEC3EKfDhRPQ"
      }
    },
    {
      "cell_type": "code",
      "source": [
        "a = int(input('첫 번째 숫자 입력: '))\n",
        "b = int(input('두 번째 숫자 입력: '))\n",
        "print('{0} * {1} = {2}'.format(a, b, a*b))"
      ],
      "metadata": {
        "id": "rl_4ebOOhai5"
      },
      "execution_count": null,
      "outputs": []
    },
    {
      "cell_type": "markdown",
      "source": [
        "# 예제3-12 중괄호 순서를 변경하고 자료를 반복하여 출력"
      ],
      "metadata": {
        "id": "L852YpO-hegB"
      }
    },
    {
      "cell_type": "code",
      "source": [
        "print('{1} {1} 빛나는 {0}'.format('별','반짝'))"
      ],
      "metadata": {
        "id": "hxB06qsuhpjI"
      },
      "execution_count": null,
      "outputs": []
    },
    {
      "cell_type": "markdown",
      "source": [
        "## 실습3-1 본인의 학번과 이름을 입력받아 콤마(,)를 이용하여 출력한다."
      ],
      "metadata": {
        "id": "FHA_qT1IlUar"
      }
    },
    {
      "cell_type": "code",
      "source": [
        "hakbun = input('학번 입력: ')\n",
        "name = input('이름 입력: ')\n",
        "print('학번은',hakbun,'이고, 이름은',name,'입니다.')"
      ],
      "metadata": {
        "id": "v7dplMJ8lfc7"
      },
      "execution_count": null,
      "outputs": []
    },
    {
      "cell_type": "markdown",
      "source": [
        "## 실습3-2 반지름을 입력 받아 원의 넓이를 계산 후 % 형식지정자를 이용하여 출력한다."
      ],
      "metadata": {
        "id": "wphFAt-tljIy"
      }
    },
    {
      "cell_type": "code",
      "source": [
        "radius = int(input('반지름 입력: '))\n",
        "area = 3.14 * radius * radius\n",
        "print('원의 넓이는 %.2f 입니다.'% area)"
      ],
      "metadata": {
        "id": "a874AvOMlybc"
      },
      "execution_count": null,
      "outputs": []
    },
    {
      "cell_type": "markdown",
      "source": [
        "## 실습3-3 가로 및 세로 길이를 입력받아 사각형의 넒이를 계산 후 format()함수를 이용하여 출력한다."
      ],
      "metadata": {
        "id": "lbPbt_Jcl5fr"
      }
    },
    {
      "cell_type": "code",
      "source": [
        "width = int(input('가로 길이 입력: '))\n",
        "height = int(input('세로 길이 입력: '))\n",
        "area = width * height\n",
        "print('가로: {}, 세로: {}, 넓이: {}'.format(width, height, area))"
      ],
      "metadata": {
        "id": "u-g2FM8OmGzr"
      },
      "execution_count": null,
      "outputs": []
    },
    {
      "cell_type": "markdown",
      "source": [
        "# 실습3-4 다음 파이썬 코드이 실행결과를 작성하시오."
      ],
      "metadata": {
        "id": "_JiO1xlsmNIb"
      }
    },
    {
      "cell_type": "code",
      "source": [
        "account = 100000\n",
        "name = input('회원이시면 이름 입력: ')\n",
        "account += 1000\n",
        "print('%s 회원님에게 1000 point 지급' % name)\n",
        "print('{} 회원님 잔고: {} point'.format(name, account))"
      ],
      "metadata": {
        "id": "hUIhXEICmjbc"
      },
      "execution_count": null,
      "outputs": []
    },
    {
      "cell_type": "markdown",
      "source": [
        "# 도전1-1 시간의 초를 입력 받아 분과 초를 출력하는 실행 결과가 나오도록 부족한 부분을 완성하시오."
      ],
      "metadata": {
        "id": "m0i4x8Tomt3M"
      }
    },
    {
      "cell_type": "code",
      "source": [
        "total = (('시간의 전체 초 입력: ')) #부족한 부분\n",
        "min = total / 60\n",
        "sec = total % 60\n",
        "print('%d 초: %d 분 %d 초'    ) #부족한 부분"
      ],
      "metadata": {
        "id": "YlH4eACzojWj"
      },
      "execution_count": null,
      "outputs": []
    },
    {
      "cell_type": "markdown",
      "source": [
        "# 도전1-2 출생년도를 입력 받아 한국 나이를 출력하는 실행 결과가 나오도록 부족한 부분을 완성하시오."
      ],
      "metadata": {
        "id": "IZD0gei0pBNC"
      }
    },
    {
      "cell_type": "code",
      "source": [
        "name = input('이름 입력: ')\n",
        "year = int(input('출생년도 입력: '))\n",
        "age = 2019 - year + 1\n",
        "print('{} 님의 한국 나이는 {}살'  ) #부족한 부분"
      ],
      "metadata": {
        "colab": {
          "base_uri": "https://localhost:8080/"
        },
        "id": "2_aq5Tkglfd2",
        "outputId": "880d2873-26df-4909-f27d-bba5376d7609"
      },
      "execution_count": null,
      "outputs": [
        {
          "output_type": "stream",
          "name": "stdout",
          "text": [
            "이름 입력: 황태준\n",
            "출생년도 입력: 2001\n",
            "황태준 님의 한국 나이는 19살\n"
          ]
        }
      ]
    },
    {
      "cell_type": "markdown",
      "source": [
        "# 도전1-3 밑변과 높이를 입력받아 삼각형의 넓이를 출력하는 실행 결과가 나오도록 부족한 부분을 완성하시오."
      ],
      "metadata": {
        "id": "uyvTGpPCp_pi"
      }
    },
    {
      "cell_type": "code",
      "source": [
        "base = (input('밑변의 길이: ')) #부족한 부분\n",
        "height = (input('높이의 길이: ')) #부족한 부분\n",
        "area = (base * height) / 2\n",
        "print('밑변 , 높이  인 삼각형의 넓이: ' % (base, height, area) ) #부족한 부분"
      ],
      "metadata": {
        "colab": {
          "base_uri": "https://localhost:8080/"
        },
        "id": "GdFBg0IQqWlD",
        "outputId": "dcc88b50-f99c-4357-c4aa-de4b70ea28b9"
      },
      "execution_count": null,
      "outputs": [
        {
          "output_type": "stream",
          "name": "stdout",
          "text": [
            "밑변의 길이: 3.5\n",
            "높이의 길이: 9.7\n",
            "밑변 3.50, 높이 9.70 인 삼각형의 넓이: 16.97\n"
          ]
        }
      ]
    },
    {
      "cell_type": "markdown",
      "source": [
        "# 도전2-1 본인의 키를 입력 받아 표준 체중을 출력한다.\n",
        "- 공식 : 키-100*0.9"
      ],
      "metadata": {
        "id": "5gAiSjZ-qhfL"
      }
    },
    {
      "cell_type": "code",
      "source": [],
      "metadata": {
        "colab": {
          "base_uri": "https://localhost:8080/"
        },
        "id": "hsl-CX8Kq2wr",
        "outputId": "e98dcc6b-e60c-44d2-d04c-1829e211bbf5"
      },
      "execution_count": null,
      "outputs": [
        {
          "output_type": "stream",
          "name": "stdout",
          "text": [
            "키 입력: 180\n",
            "키 180cm의 표준 체중은 72kg 입니다.\n"
          ]
        }
      ]
    },
    {
      "cell_type": "markdown",
      "source": [
        "# 도전2-2 숫자2개를 입력 받아 사칙 연산을 출력한다."
      ],
      "metadata": {
        "id": "wTzvtOkardh3"
      }
    },
    {
      "cell_type": "code",
      "source": [],
      "metadata": {
        "colab": {
          "base_uri": "https://localhost:8080/"
        },
        "id": "-SteNHKMrpvE",
        "outputId": "96052b17-96f8-4986-d083-5f58a866e584"
      },
      "execution_count": null,
      "outputs": [
        {
          "output_type": "stream",
          "name": "stdout",
          "text": [
            "첫 번째 숫자 입력: 20\n",
            "첫 번째 숫자 입력: 10\n",
            "20 + 10 = 30\n",
            "20 - 10 = 10\n",
            "20 * 10 = 200\n",
            "20 / 10 = 2.0\n"
          ]
        }
      ]
    },
    {
      "cell_type": "markdown",
      "source": [
        "# 도전2-3 세 과목의 점수를 입력 받아 총점과 평균을 출력한다."
      ],
      "metadata": {
        "id": "T5jXGs1vtUVD"
      }
    },
    {
      "cell_type": "code",
      "source": [],
      "metadata": {
        "colab": {
          "base_uri": "https://localhost:8080/"
        },
        "id": "v_maDonptiSH",
        "outputId": "b717d048-b2be-4d51-b633-aaa74fe1f820"
      },
      "execution_count": null,
      "outputs": [
        {
          "output_type": "stream",
          "name": "stdout",
          "text": [
            "국어 점수: 86\n",
            "영어 점수: 82\n",
            "수학 점수: 97\n",
            "국어:86점, 영어:82점, 수학:97점 ⇒ 총점:265.00, 평균:88.33\n"
          ]
        }
      ]
    }
  ]
}