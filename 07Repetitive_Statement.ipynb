{
  "nbformat": 4,
  "nbformat_minor": 0,
  "metadata": {
    "colab": {
      "provenance": [],
      "authorship_tag": "ABX9TyPPbQexYZuVxN6LZy23pWTU",
      "include_colab_link": true
    },
    "kernelspec": {
      "name": "python3",
      "display_name": "Python 3"
    },
    "language_info": {
      "name": "python"
    }
  },
  "cells": [
    {
      "cell_type": "markdown",
      "metadata": {
        "id": "view-in-github",
        "colab_type": "text"
      },
      "source": [
        "<a href=\"https://colab.research.google.com/github/formula008/Information-Posco-HighSchool/blob/main/07Repetitive_Statement.ipynb\" target=\"_parent\"><img src=\"https://colab.research.google.com/assets/colab-badge.svg\" alt=\"Open In Colab\"/></a>"
      ]
    },
    {
      "cell_type": "markdown",
      "source": [
        "# [예제7-1] range()함수를 이용한 반복 출력"
      ],
      "metadata": {
        "id": "m136Z5bNtVmI"
      }
    },
    {
      "cell_type": "code",
      "execution_count": null,
      "metadata": {
        "id": "QX8YffecmXDs"
      },
      "outputs": [],
      "source": [
        "#예제 7-1\n",
        "for i in range(5) :\n",
        "    print('*' * (i+1))"
      ]
    },
    {
      "cell_type": "markdown",
      "source": [
        "# [예제7-2] 리스트를 이용한 반복 출력"
      ],
      "metadata": {
        "id": "HFtKQDMSudDv"
      }
    },
    {
      "cell_type": "code",
      "source": [
        "odd = [1, 3, 5, 7, 9]\n",
        "for i in odd :\n",
        "    print(i+1, end=' ')"
      ],
      "metadata": {
        "id": "t4niwQooujzX"
      },
      "execution_count": null,
      "outputs": []
    },
    {
      "cell_type": "markdown",
      "source": [
        "# [예제7-3] 문자열을 이용한 반복 출력"
      ],
      "metadata": {
        "id": "v9wJH-N8un2G"
      }
    },
    {
      "cell_type": "code",
      "source": [
        "#예제 7-3\n",
        "for i in 'Python' :\n",
        "    print(i, end=' ')"
      ],
      "metadata": {
        "id": "OI0KeVRWutIO"
      },
      "execution_count": null,
      "outputs": []
    },
    {
      "cell_type": "markdown",
      "source": [
        "# [예제7-4] while문을 이용한 반복 출력(1)"
      ],
      "metadata": {
        "id": "bpz22RQCv4mt"
      }
    },
    {
      "cell_type": "code",
      "source": [
        "#예제 7-4\n",
        "year = 1\n",
        "while year <= 3 :\n",
        "    print('서당개',year,'년')\n",
        "    year += 1\n",
        "print('풍월을 읊습니다.')"
      ],
      "metadata": {
        "id": "HymNA8bvuxxW"
      },
      "execution_count": null,
      "outputs": []
    },
    {
      "cell_type": "markdown",
      "source": [
        "# [예제7-5] while문을 이용한 반복 출력(2)"
      ],
      "metadata": {
        "id": "9x3vCydEv80d"
      }
    },
    {
      "cell_type": "code",
      "source": [
        "#예제 7-5\n",
        "result = None\n",
        "while result != 'y':\n",
        "    print('파이선 최고!')\n",
        "    result = input('계속하려면 입력:(종료:y) ')\n",
        "\n",
        "print('종료')"
      ],
      "metadata": {
        "id": "cdPChi_6wC-2"
      },
      "execution_count": null,
      "outputs": []
    },
    {
      "cell_type": "markdown",
      "source": [
        "# [예제7-6] 단을 입력 받아 구구단을 출력한다."
      ],
      "metadata": {
        "id": "DibzdAe4wFv9"
      }
    },
    {
      "cell_type": "code",
      "source": [
        "#예제 7-6\n",
        "num = int(input('단 입력: '))\n",
        "for i in range(1, 10):\n",
        "    print('%d × %d = %d' % (num, i, num*i))"
      ],
      "metadata": {
        "id": "dBesh5ZNwNBG"
      },
      "execution_count": null,
      "outputs": []
    },
    {
      "cell_type": "code",
      "source": [
        "i = 1\n",
        "num = int(input('단 입력: '))\n",
        "while i <= 9 :\n",
        "    print('%d × %d = %d' % (num, i, num*i))\n",
        "    i += 1"
      ],
      "metadata": {
        "id": "XmOQwD7_Z1A4"
      },
      "execution_count": null,
      "outputs": []
    },
    {
      "cell_type": "markdown",
      "source": [
        "# [예제7-7] 무한루프 while 문안에서 break를 이용한 강제 종료"
      ],
      "metadata": {
        "id": "7oy760CMwP9F"
      }
    },
    {
      "cell_type": "code",
      "source": [
        "#예제 7-7\n",
        "while True:\n",
        "    num = int(input('번호 입력(종료 0): '))\n",
        "    if num == 0 :\n",
        "        break\n",
        "    print('while 무한루프로 반복중')"
      ],
      "metadata": {
        "id": "I2Xyegauwf4u"
      },
      "execution_count": null,
      "outputs": []
    },
    {
      "cell_type": "markdown",
      "source": [
        "# [예제7-8] 1~30 사이의 정수 중에서 7의 배수 출력"
      ],
      "metadata": {
        "id": "tqAUbArHwi59"
      }
    },
    {
      "cell_type": "code",
      "source": [
        "#예제 7-8\n",
        "for i in range(1,31) :\n",
        "    if i % 7 == 0 :\n",
        "        print('7의 배수:',i)"
      ],
      "metadata": {
        "id": "anY6Wlvkwr0u"
      },
      "execution_count": null,
      "outputs": []
    },
    {
      "cell_type": "code",
      "source": [
        "for i in range(1,31) :\n",
        "    if i % 7 != 0 :\n",
        "        continue\n",
        "    print('7의 배수:',i)"
      ],
      "metadata": {
        "id": "Sau9MTkaaQWl"
      },
      "execution_count": null,
      "outputs": []
    },
    {
      "cell_type": "markdown",
      "source": [
        "# [예제7-9] pass사용 형태"
      ],
      "metadata": {
        "id": "IoMcILNSwy59"
      }
    },
    {
      "cell_type": "code",
      "source": [
        "#예제 7-9\n",
        "while True:\n",
        "    pass"
      ],
      "metadata": {
        "id": "FcxqTOLnxAMt"
      },
      "execution_count": null,
      "outputs": []
    },
    {
      "cell_type": "code",
      "source": [
        "for i in range(11):\n",
        "    pass"
      ],
      "metadata": {
        "id": "HOeQawaVacAh"
      },
      "execution_count": null,
      "outputs": []
    },
    {
      "cell_type": "markdown",
      "source": [
        "# [예제7-10] 0을 입력하기 전까지 단을 입력 받아 구구단을 출력한다."
      ],
      "metadata": {
        "id": "5hpzcq0TxEOu"
      }
    },
    {
      "cell_type": "code",
      "source": [
        "#예제 7-10\n",
        "while True:\n",
        "    num = int(input('단 입력(종료:0) '))\n",
        "    if num == 0:\n",
        "        break\n",
        "    i = 1\n",
        "    while i <= 9:\n",
        "        print('%d × %d = %d' % (num, i, num * i))\n",
        "        i += 1\n",
        "print('구구단 프로그램 종료')  "
      ],
      "metadata": {
        "id": "Y52P8sdpxPM1"
      },
      "execution_count": null,
      "outputs": []
    },
    {
      "cell_type": "markdown",
      "source": [
        "# [예제7-11] 영문 대문자를 입력 받아 암호로 변환하여 출력한다.(딕셔너리)"
      ],
      "metadata": {
        "id": "tuKSO-8dxSz9"
      }
    },
    {
      "cell_type": "code",
      "source": [
        "#예제 7-11\n",
        "alpha = {'A':'1!','B':'2@','C':'3#','D':'4$','E':'5%'}\n",
        "while True:\n",
        "    code = ''\n",
        "    word = input('대문자 A~E 단어 입력(종료:0) ')\n",
        "    if word == '0':\n",
        "        break\n",
        "    for ch in word:\n",
        "        code += alpha[ch]\n",
        "    print('단어:',word,', 암호코드:',code,'\\n')\n",
        "print('암호코드 변환 프로그램 종료')"
      ],
      "metadata": {
        "id": "w4qtoPMqxc5m"
      },
      "execution_count": null,
      "outputs": []
    },
    {
      "cell_type": "markdown",
      "source": [
        "# [예제7-12] 시작 단부터 종료 단까지 구구단을 출력한다."
      ],
      "metadata": {
        "id": "qEPBz5FHxjIe"
      }
    },
    {
      "cell_type": "code",
      "source": [
        "#예제 7-12\n",
        "start = int(input('시작단 입력: '))\n",
        "end = int(input('종료단 입력: '))\n",
        "for num in range(start,end+1) :\n",
        "    i = 1\n",
        "    while i <= 9:\n",
        "        print('%d × %d = %d' % (num, i, num * i))\n",
        "        i += 1\n",
        "print('구구단 프로그램 종료') "
      ],
      "metadata": {
        "id": "sx34T9vtxsCv"
      },
      "execution_count": null,
      "outputs": []
    },
    {
      "cell_type": "markdown",
      "source": [
        "# [예제7-13] 김밥 배합을 출력한다.(리스트)"
      ],
      "metadata": {
        "id": "PWaOCKcexupG"
      }
    },
    {
      "cell_type": "code",
      "source": [
        "main = ['참치','소고기']\n",
        "side = ['치즈','김치']\n",
        "i = 1\n",
        "for m in main :\n",
        "    for s in side :\n",
        "        print(i,m+'+'+s+'+단무지')\n",
        "        i += 1"
      ],
      "metadata": {
        "id": "F_xdcZmbx_Ce"
      },
      "execution_count": null,
      "outputs": []
    },
    {
      "cell_type": "markdown",
      "source": [
        "# [실습7-1] 학생 정보 입력 받아 평균을 출력한다."
      ],
      "metadata": {
        "id": "LiqE6O-ZUv4G"
      }
    },
    {
      "cell_type": "code",
      "source": [
        "#실습 7-1\n",
        "students = []       # 학생 리스트\n",
        "sum = 0               # 합계\n",
        "\n",
        "num = int(input('학생 수 입력: '))\n",
        "for i in range(num) : # 학생 정보 저장을 위한 for문\n",
        "    print('<<',i+1,'번째 학생 정보 입력 >>')\n",
        "    name = input('학생 이름 입력: ')\n",
        "    score = int(input('%s 점수 입력: ' % name))\n",
        "    (          )([name, score])  # 학생 리스트에 저장, 미완성된 부분\n",
        "    sum += score                             # 총점 구함\n",
        "    \n",
        "for info in students : # 학생 정보 출력을 위한 for문\n",
        "    print('이름: %s, 점수: %d' % (info[0], info[1]))\n",
        "print('학생들 점수 평균: %5.2f' % (sum/num))"
      ],
      "metadata": {
        "id": "ciJTuS1zU3aR",
        "colab": {
          "base_uri": "https://localhost:8080/"
        },
        "outputId": "cf26e662-3bb6-402c-c4db-3f40ba652fc2"
      },
      "execution_count": null,
      "outputs": [
        {
          "output_type": "stream",
          "name": "stdout",
          "text": [
            "학생 수 입력: 3\n",
            "<< 1 번째 학생 정보 입력 >>\n",
            "학생 이름 입력: 박보검\n",
            "박보검 점수 입력: 90\n",
            "<< 2 번째 학생 정보 입력 >>\n",
            "학생 이름 입력: 정우성\n",
            "정우성 점수 입력: 80\n",
            "<< 3 번째 학생 정보 입력 >>\n",
            "학생 이름 입력: 차은우\n",
            "차은우 점수 입력: 85\n",
            "이름: 박보검, 점수: 90\n",
            "이름: 정우성, 점수: 80\n",
            "이름: 차은우, 점수: 85\n",
            "학생들 점수 평균: 85.00\n"
          ]
        }
      ]
    },
    {
      "cell_type": "markdown",
      "source": [
        "# [실습7-2] 컴퓨터가 생각한 숫자 맞추기 게임"
      ],
      "metadata": {
        "id": "jeSwVuQFU-D4"
      }
    },
    {
      "cell_type": "code",
      "source": [
        "#실습 7-2\n",
        "import random\n",
        "com = random.randint(1,20)\n",
        "print('<< 컴퓨터가 생각한 1~20 숫자 맞추기 >>')\n",
        "while True :\n",
        "    player = int(input('숫자 입력(종료 0): '))\n",
        "    if (          ) : #미완성된 부분\n",
        "        break\n",
        "    elif (          ) : #미완성된 부분\n",
        "        print('정답!!')\n",
        "        break\n",
        "    elif (          ) : #미완성된 부분\n",
        "        print('더 작은 숫자 입력! ')\n",
        "    elif (           ) : #미완성된 부분\n",
        "        print('더 큰 숫자 입력! ')"
      ],
      "metadata": {
        "id": "a2z4k3e4VHQY",
        "colab": {
          "base_uri": "https://localhost:8080/"
        },
        "outputId": "21bfe837-5db6-4b32-f71f-8cd44238553a"
      },
      "execution_count": null,
      "outputs": [
        {
          "output_type": "stream",
          "name": "stdout",
          "text": [
            "<< 컴퓨터가 생각한 1~20 숫자 맞추기 >>\n",
            "숫자 입력(종료 0): 10\n",
            "더 작은 숫자 입력! \n",
            "숫자 입력(종료 0): 5\n",
            "더 작은 숫자 입력! \n",
            "숫자 입력(종료 0): 3\n",
            "더 큰 숫자 입력! \n",
            "숫자 입력(종료 0): 4\n",
            "정답!!\n"
          ]
        }
      ]
    },
    {
      "cell_type": "markdown",
      "source": [
        "# [실습7-3] 3,6,9로 끝나는 숫자는 '짝'을 출력하는 369게임"
      ],
      "metadata": {
        "id": "m26q-lq3VLTR"
      }
    },
    {
      "cell_type": "code",
      "source": [
        "#실습 7-3\n",
        "print('<< 369 게임 >>')\n",
        "num = int(input('1부터 어디까지 진행할까요? '))\n",
        "\n",
        "for i in range(1,num+1) :\n",
        "    if (                          ) : #미완성된 부분\n",
        "        print('짝', end=' ')\n",
        "    else:\n",
        "        print(i, end=' ')"
      ],
      "metadata": {
        "id": "J4akl-XbVWeQ",
        "colab": {
          "base_uri": "https://localhost:8080/"
        },
        "outputId": "5fde5ce7-cfbc-4107-9325-603eb50fa9d4"
      },
      "execution_count": null,
      "outputs": [
        {
          "output_type": "stream",
          "name": "stdout",
          "text": [
            "<< 369 게임 >>\n",
            "1부터 어디까지 진행할까요? 20\n",
            "1 2 짝 4 5 짝 7 8 짝 10 11 12 짝 14 15 짝 17 18 짝 20 "
          ]
        }
      ]
    },
    {
      "cell_type": "markdown",
      "source": [
        "# [실습7-4]삼각형 모양의 별을 출력하는 파이썬 코드의 실행결과를 작성하시오."
      ],
      "metadata": {
        "id": "NtgVrY8YVe5A"
      }
    },
    {
      "cell_type": "code",
      "source": [
        "#실습 7-4\n",
        "for i in range(5) :\n",
        "    print(str(5-i) * (5-i))"
      ],
      "metadata": {
        "id": "4Ilj8kPMVpVx",
        "colab": {
          "base_uri": "https://localhost:8080/"
        },
        "outputId": "cb56f970-bd0a-4491-ebd9-4c7bb812a147"
      },
      "execution_count": null,
      "outputs": [
        {
          "output_type": "stream",
          "name": "stdout",
          "text": [
            "55555\n",
            "4444\n",
            "333\n",
            "22\n",
            "1\n"
          ]
        }
      ]
    },
    {
      "cell_type": "code",
      "source": [
        "for i in range(5) :\n",
        "    print('*' * (5-i))"
      ],
      "metadata": {
        "id": "o2cy8vmFZKEA",
        "colab": {
          "base_uri": "https://localhost:8080/"
        },
        "outputId": "c7c89318-74f2-47d1-c457-0d6e372f0ed8"
      },
      "execution_count": null,
      "outputs": [
        {
          "output_type": "stream",
          "name": "stdout",
          "text": [
            "*****\n",
            "****\n",
            "***\n",
            "**\n",
            "*\n"
          ]
        }
      ]
    },
    {
      "cell_type": "markdown",
      "source": [
        "# [실습7-5]영문 대문자를 입력하면 모스 부호를 출력한다."
      ],
      "metadata": {
        "id": "Vcnfv2KvVs2J"
      }
    },
    {
      "cell_type": "code",
      "source": [
        "morse_dict = {'A':'.-','B':'-...', 'C':'-.-.', 'D':'-..',\n",
        "                   'E':'.', 'F':'..-.', 'G':'--.', 'H':'....',\n",
        "                   'I':'..', 'J':'.---', 'K':'-.-', 'L':'.-..',\n",
        "                   'M':'--', 'N':'-.', 'O':'---', 'P':'.--.',\n",
        "                   'Q':'--.-', 'R':'.-.', 'S':'...', 'T':'-',\n",
        "                   'U':'..-', 'V':'...-', 'W':'.--', 'X':'-..-',\n",
        "                   'Y':'-.--', 'Z':'--..'}\n",
        "\n",
        "while True:\n",
        "    morse_code = ''\n",
        "    word = input('대문자 단어 입력(종료:0) ')\n",
        "    if word == '0':\n",
        "        break\n",
        "    for ch in word:\n",
        "        morse_code += morse_dict[ch]\n",
        "        morse_code += '  '\n",
        "    print('단어:', word, ', 모스 코드: ', morse_code, '\\n')\n",
        "print('모스 부호 변환 프로그램 종료')"
      ],
      "metadata": {
        "id": "wWNn1FPtV1Iq"
      },
      "execution_count": null,
      "outputs": []
    },
    {
      "cell_type": "markdown",
      "source": [
        "# [실습7-6]정수를 입력 받아 정수만큼 하트 기호를 출력한다.(단, 두 자리 이상의 정수는 자리수를 분리하여 하트 기호를 출력한다.)"
      ],
      "metadata": {
        "id": "TVybubuEV6Qp"
      }
    },
    {
      "cell_type": "code",
      "source": [
        "#실습 7-6\n",
        "str_num = input('정수 입력: ')\n",
        "i = 0\n",
        "for i in range( len(str_num )) :\n",
        "    heart_num = int(str_num[i])\n",
        "    heart = ''     # 저장값 초기화\n",
        "    for k in range(       ) : #미완성된 부분\n",
        "        heart += '♥'\n",
        "    print(heart)"
      ],
      "metadata": {
        "id": "vawzX_xkWJqB",
        "colab": {
          "base_uri": "https://localhost:8080/"
        },
        "outputId": "0864c3a6-1175-4c7a-baca-3d49be21b65b"
      },
      "execution_count": null,
      "outputs": [
        {
          "output_type": "stream",
          "name": "stdout",
          "text": [
            "정수 입력: 7\n",
            "♥♥♥♥♥♥♥\n"
          ]
        }
      ]
    },
    {
      "cell_type": "markdown",
      "source": [
        "# [도전1-1]직각삼각형 모양의 별을 출력한다."
      ],
      "metadata": {
        "id": "xTgHJWhEYAvO"
      }
    },
    {
      "cell_type": "code",
      "source": [
        "for i in range(5) :\n",
        "    print(' '*i,'*'*(    )) #미완성된 부분"
      ],
      "metadata": {
        "id": "vaqqqu_JYNVh",
        "colab": {
          "base_uri": "https://localhost:8080/"
        },
        "outputId": "280b580c-bcc1-4e81-c66b-f6ee6d6dd0c0"
      },
      "execution_count": null,
      "outputs": [
        {
          "output_type": "stream",
          "name": "stdout",
          "text": [
            " *****\n",
            "  ****\n",
            "   ***\n",
            "    **\n",
            "     *\n"
          ]
        }
      ]
    },
    {
      "cell_type": "code",
      "source": [
        "for i in range(5) :\n",
        "    print(' '*(     ),'*'*(     )) #미완성된 부분"
      ],
      "metadata": {
        "id": "LRHi8KvyZD4I",
        "colab": {
          "base_uri": "https://localhost:8080/"
        },
        "outputId": "58855612-b2d0-40f4-edd4-fdc94b6d3568"
      },
      "execution_count": null,
      "outputs": [
        {
          "output_type": "stream",
          "name": "stdout",
          "text": [
            "     *\n",
            "    **\n",
            "   ***\n",
            "  ****\n",
            " *****\n"
          ]
        }
      ]
    },
    {
      "cell_type": "markdown",
      "source": [
        "# [도전1-2]정삼각형과 역삼각형 모양의 별을 출력한다."
      ],
      "metadata": {
        "id": "8rIjC1gGZXFx"
      }
    },
    {
      "cell_type": "code",
      "source": [
        "#도전 7-1-2\n",
        "for i in range(5) :\n",
        "    print(' '*i,'*'*(          )) #미완성된 부분"
      ],
      "metadata": {
        "id": "RwhvPDnwZgxx",
        "colab": {
          "base_uri": "https://localhost:8080/"
        },
        "outputId": "4726ee66-93c8-4425-e27e-b53e73aa7e4b"
      },
      "execution_count": null,
      "outputs": [
        {
          "output_type": "stream",
          "name": "stdout",
          "text": [
            " *********\n",
            "  *******\n",
            "   *****\n",
            "    ***\n",
            "     *\n"
          ]
        }
      ]
    },
    {
      "cell_type": "code",
      "source": [
        "for i in range(5) :\n",
        "    print(' '*(4-i),'*'*(     )) #미완성된 부분"
      ],
      "metadata": {
        "id": "yeABebDrZjkQ",
        "colab": {
          "base_uri": "https://localhost:8080/"
        },
        "outputId": "5495a2bd-a255-4e07-8a2f-ac19ca1c1801"
      },
      "execution_count": null,
      "outputs": [
        {
          "output_type": "stream",
          "name": "stdout",
          "text": [
            "     *\n",
            "    ***\n",
            "   *****\n",
            "  *******\n",
            " *********\n"
          ]
        }
      ]
    },
    {
      "cell_type": "markdown",
      "source": [
        "# [도전1-3]타자 연습 게임 프로그램"
      ],
      "metadata": {
        "id": "HoBPwqmHZlZH"
      }
    },
    {
      "cell_type": "code",
      "source": [
        "#도전 7-1-3\n",
        "import random\n",
        "word = ['반짝이는','별빛들', '깜빡 이는','불 켜진','건물','우린','빛나고','있네', '각자의 방','각자의','별에서']\n",
        "input('타자게임 시작 (엔터 입력) ')\n",
        "w = random.choice(word)\n",
        "n = 1        # 문제번호\n",
        "while True :\n",
        "    print('문제',n,'(종료 0):',w)\n",
        "    my = input()\n",
        "    if my == '0' :\n",
        "        break\n",
        "    elif my == w :\n",
        "        print('맞음!!\\n')\n",
        "        w = random.choice(word)\n",
        "    else :\n",
        "        print('틀림! 다시!\\n')\n",
        "    n += 1    # 문제번호 증가"
      ],
      "metadata": {
        "id": "11LpBu3NZrfh",
        "colab": {
          "base_uri": "https://localhost:8080/"
        },
        "outputId": "1efee180-b370-481a-a67f-20990cd83983"
      },
      "execution_count": null,
      "outputs": [
        {
          "name": "stdout",
          "output_type": "stream",
          "text": [
            "타자게임 시작 (엔터 입력) \n",
            "문제 1 (종료 0): 불 켜진\n",
            "불 켜진\n",
            "맞음!!\n",
            "\n",
            "문제 2 (종료 0): 우린\n",
            "우린\n",
            "맞음!!\n",
            "\n",
            "문제 3 (종료 0): 우린\n",
            "0\n"
          ]
        }
      ]
    },
    {
      "cell_type": "markdown",
      "source": [
        "# [도전2-1]도전1-3 타자 연습 게임 프로그램을 변형하여 맞힌 문제 개수와 정답율을 출력하라."
      ],
      "metadata": {
        "id": "cdgdjVVqZ1rA"
      }
    },
    {
      "cell_type": "code",
      "source": [
        "#도전 7-2-1\n",
        "import random\n",
        "word = ['반짝이는','별빛들', '깜빡 이는','불 켜진','건물','우린','빛나고','있네','각자의 방','각자의','별에서']\n",
        "input('타자게임 시작 (엔터 입력) ')\n",
        "w = random.choice(word)\n",
        "n = 1        # 문제번호\n",
        "correct = 0\n",
        "while True :\n",
        "    print('문제',n,'(종료 0):',w)\n",
        "    my = input()\n",
        "    if my == '0' :\n",
        "        break\n",
        "    elif my == w :\n",
        "        print('맞음!!\\n')\n",
        "        correct += 1\n",
        "        w = random.choice(word)\n",
        "    else :\n",
        "        print('틀림! 다시!\\n')\n",
        "    n += 1    # 문제번호 증가\n",
        "\n",
        "#맞힌 문제 개수와 정답율을 출력하는 부분 작성"
      ],
      "metadata": {
        "id": "GDI-Yz4TaV74",
        "colab": {
          "base_uri": "https://localhost:8080/"
        },
        "outputId": "6c91b266-bc9f-4c86-edc1-b93339bb6399"
      },
      "execution_count": null,
      "outputs": [
        {
          "output_type": "stream",
          "name": "stdout",
          "text": [
            "타자게임 시작 (엔터 입력) \n",
            "문제 1 (종료 0): 별빛들\n",
            "별빛들\n",
            "맞음!!\n",
            "\n",
            "문제 2 (종료 0): 건물\n",
            "건물들\n",
            "틀림! 다시!\n",
            "\n",
            "문제 3 (종료 0): 건물\n",
            "0\n",
            "맞힌 문제 개수: 1, 정답률: 50.00%\n"
          ]
        }
      ]
    },
    {
      "cell_type": "markdown",
      "source": [
        "# [도전2-2]실습7-3을 변형하여 3,6,9로 끝나는 숫자는 '짝', 10의 배수는 '따봉'을 출력하는 369 게임을 완성하시오."
      ],
      "metadata": {
        "id": "Mc3csol5ajN-"
      }
    },
    {
      "cell_type": "code",
      "source": [
        "#도전 6-2-2\n",
        "\n",
        "print('<< 369 게임 >>')\n",
        "num = int(input('1부터 어디까지 진행할까요? '))\n",
        "\n",
        "for i in range(1,num+1) :\n",
        "    if i % 10 == 3 or i % 10 == 6 or i % 10 == 9 :\n",
        "        print('짝', end=' ')\n",
        "    elif (          ) :  #미완성된 부분\n",
        "        print(          ) # 미완성된 부분\n",
        "    else:\n",
        "        print(i, end=' ')"
      ],
      "metadata": {
        "id": "-JyxtHAAaz6X",
        "colab": {
          "base_uri": "https://localhost:8080/"
        },
        "outputId": "36bd4738-b9b9-44cf-db3d-a37a689c4038"
      },
      "execution_count": null,
      "outputs": [
        {
          "output_type": "stream",
          "name": "stdout",
          "text": [
            "<< 369 게임 >>\n",
            "1부터 어디까지 진행할까요? 20\n",
            "1 2 짝 4 5 짝 7 8 짝 따봉 11 12 짝 14 15 짝 17 18 짝 따봉 "
          ]
        }
      ]
    },
    {
      "cell_type": "markdown",
      "source": [
        "# [도전2-3]예제7-13을 응용하여 모든 샌드위치 배합을 출력한다.(단, 샌드위치의 속 재료는 빵,패티,드레싱 등으로 한다.)"
      ],
      "metadata": {
        "id": "oORTUh_Wa22n"
      }
    },
    {
      "cell_type": "code",
      "source": [
        "#도전 6-2-3\n",
        "breads = ['위트','허니오트','화이트']\n",
        "meats = ['미트볼','로스트치킨','터키베이컨']\n",
        "\n",
        "#미완성된 부분\n"
      ],
      "metadata": {
        "id": "BjfRYdbHbLav",
        "colab": {
          "base_uri": "https://localhost:8080/"
        },
        "outputId": "80ee72c7-c320-4e2f-d132-2996e6aaa852"
      },
      "execution_count": null,
      "outputs": [
        {
          "output_type": "stream",
          "name": "stdout",
          "text": [
            "1 위트+미트볼+랜치드레싱\n",
            "2 위트+로스트치킨+랜치드레싱\n",
            "3 위트+터키베이컨+랜치드레싱\n",
            "4 허니오트+미트볼+랜치드레싱\n",
            "5 허니오트+로스트치킨+랜치드레싱\n",
            "6 허니오트+터키베이컨+랜치드레싱\n",
            "7 화이트+미트볼+랜치드레싱\n",
            "8 화이트+로스트치킨+랜치드레싱\n",
            "9 화이트+터키베이컨+랜치드레싱\n"
          ]
        }
      ]
    },
    {
      "cell_type": "markdown",
      "source": [
        "# [도전2-4]를 변형하여 컴퓨터가 생각한 숫자를 5번 이내에 맟추기"
      ],
      "metadata": {
        "id": "Q6Zp9jJSbbgo"
      }
    },
    {
      "cell_type": "code",
      "source": [
        "#도전 6-2-4\n",
        "import random\n",
        "com = random.randint(1,20)\n",
        "print('<< 컴퓨터가 생각한 1~20 숫자 맞추기 >>')\n",
        "count = 0\n",
        "\n",
        "#미완성된 부분\n"
      ],
      "metadata": {
        "id": "SPMdosYtbkj4",
        "colab": {
          "base_uri": "https://localhost:8080/"
        },
        "outputId": "99462a27-62cf-451e-ad29-327d7e9e4a24"
      },
      "execution_count": null,
      "outputs": [
        {
          "output_type": "stream",
          "name": "stdout",
          "text": [
            "<< 컴퓨터가 생각한 1~20 숫자 맞추기 >>\n",
            "숫자 입력(종료 0): 10\n",
            "더 큰 숫자 입력! \n",
            "숫자 입력(종료 0): 15\n",
            "더 큰 숫자 입력! \n",
            "숫자 입력(종료 0): 18\n",
            "더 작은 숫자 입력! \n",
            "숫자 입력(종료 0): 17\n",
            "더 작은 숫자 입력! \n",
            "숫자 입력(종료 0): 16\n",
            "정답!!\n"
          ]
        }
      ]
    }
  ]
}