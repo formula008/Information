{
  "nbformat": 4,
  "nbformat_minor": 0,
  "metadata": {
    "colab": {
      "provenance": [],
      "authorship_tag": "ABX9TyM0G2d9PHqmHnFiYhAP1ICl",
      "include_colab_link": true
    },
    "kernelspec": {
      "name": "python3",
      "display_name": "Python 3"
    },
    "language_info": {
      "name": "python"
    }
  },
  "cells": [
    {
      "cell_type": "markdown",
      "metadata": {
        "id": "view-in-github",
        "colab_type": "text"
      },
      "source": [
        "<a href=\"https://colab.research.google.com/github/formula008/Information-Posco-HighSchool/blob/main/02Variable%26Operator.ipynb\" target=\"_parent\"><img src=\"https://colab.research.google.com/assets/colab-badge.svg\" alt=\"Open In Colab\"/></a>"
      ]
    },
    {
      "cell_type": "markdown",
      "source": [
        "# 예제2-1 변수를 사용하지 않은 소스 코드"
      ],
      "metadata": {
        "id": "76va62e-2dNm"
      }
    },
    {
      "cell_type": "code",
      "execution_count": null,
      "metadata": {
        "id": "9GEL4e4xigir"
      },
      "outputs": [],
      "source": [
        "print('Hello python')\n",
        "print('Hello python')\n",
        "print('Hello python')\n",
        "print('Hello python')\n",
        "print('Hello python')"
      ]
    },
    {
      "cell_type": "markdown",
      "source": [
        "# 예제2-2 변수를 사용한 소스"
      ],
      "metadata": {
        "id": "yjijJV9G2rBf"
      }
    },
    {
      "cell_type": "code",
      "source": [
        "hello='안녕 파이썬' \n",
        "print(hello)\n",
        "print(hello)\n",
        "print(hello)\n",
        "print(hello)\n",
        "print(hello)"
      ],
      "metadata": {
        "id": "6KQbHIVwmBEV"
      },
      "execution_count": null,
      "outputs": []
    },
    {
      "cell_type": "markdown",
      "source": [
        "## 예제2-3 본인의 이름과 나이를 변수에 저장한 후 출력"
      ],
      "metadata": {
        "id": "-zRM4qqO27NX"
      }
    },
    {
      "cell_type": "code",
      "source": [
        "name='나코딩'\n",
        "age=20\n",
        "\n",
        "print(name)\n",
        "print(age)"
      ],
      "metadata": {
        "id": "PQgwBIORmJVb"
      },
      "execution_count": null,
      "outputs": []
    },
    {
      "cell_type": "markdown",
      "source": [
        "# 예제2-4 문자열 곱하기 응용"
      ],
      "metadata": {
        "id": "hcik0z9G3F84"
      }
    },
    {
      "cell_type": "code",
      "source": [
        "print('='*20)\n",
        "print('I love python')\n",
        "print('I like python')\n",
        "print('='*20)"
      ],
      "metadata": {
        "id": "1s5rxMpzmMCz"
      },
      "execution_count": null,
      "outputs": []
    },
    {
      "cell_type": "markdown",
      "source": [
        "# 변수실습문제\n",
        "# 실습2-1 자동판매기에 투입한 돈과 물건 값이 아래와 같이 변수에 저장되었다고 가정하고 잔돈을 계산하여 동전으로 거술러주는 프로그램을 작성해보자.\n",
        "- 가정 : 자판기는 동전 500원, 100원만만 거슬러준다.\n",
        "- 힌트 : 몫(//), 나머지(%) 연산자 활용"
      ],
      "metadata": {
        "id": "gI2vXBez3WEC"
      }
    },
    {
      "cell_type": "code",
      "source": [
        "money = 1600          # 투입한 돈\n",
        "price = 1000            # 물건 값\n",
        "\n",
        "change=money-price      # 잔돈\n",
        "print('change ',change)\n",
        "\n",
        "c500=change//500        # 500원 개수\n",
        "change=change%500\n",
        "\n",
        "c100=change//100        # 100원 개수\n",
        "\n",
        "print('coin500 ',c500)\n",
        "print('coin100 ',c100)"
      ],
      "metadata": {
        "id": "UAIHpZM9hzbH"
      },
      "execution_count": null,
      "outputs": []
    },
    {
      "cell_type": "markdown",
      "source": [
        "## 실습2-2 세과목에 대한 성적을 각각 변수에 저장한후 합계와 평균을 출력해보자. "
      ],
      "metadata": {
        "id": "aHmA0-pT4QXX"
      }
    },
    {
      "cell_type": "code",
      "source": [
        "kor,eng,math=100,100,100\n",
        "\n",
        "hap=kor+eng+math\n",
        "avg=hap/3\n",
        "\n",
        "print('hap', hap)\n",
        "print('avg', avg)"
      ],
      "metadata": {
        "id": "sx2Vi523iDDv"
      },
      "execution_count": null,
      "outputs": []
    },
    {
      "cell_type": "markdown",
      "source": [
        "# 실습2-3 다음 코드의 실행결과를 쓰시오."
      ],
      "metadata": {
        "id": "gEenRXVa695u"
      }
    },
    {
      "cell_type": "code",
      "source": [
        "num1=25\n",
        "num2=10\n",
        "\n",
        "print(num1 / num2)\n",
        "print(num1 // num2)\n",
        "print(num1 % num2)"
      ],
      "metadata": {
        "id": "V2L-mVigjRgb"
      },
      "execution_count": null,
      "outputs": []
    },
    {
      "cell_type": "markdown",
      "source": [
        "# 실습2-4 다음 문제의 대한 가장 알맞은 조건식을 밑줄에 쓰시오."
      ],
      "metadata": {
        "id": "-N8t7YBp7IQu"
      }
    },
    {
      "cell_type": "code",
      "source": [],
      "metadata": {
        "id": "tiK65Q-P7VUo"
      },
      "execution_count": null,
      "outputs": []
    },
    {
      "cell_type": "markdown",
      "source": [
        "# 실습2-5 본인의 학교이름, 학과, 이름, 연락처를 변수에 저장하여 출력해보자.\n",
        "- 변수명 : 학교이름(univ), 학과(dept), 이름(name), 연락처(phone)"
      ],
      "metadata": {
        "id": "HOtCV-3N7Xjo"
      }
    },
    {
      "cell_type": "code",
      "source": [],
      "metadata": {
        "id": "TeFJAT2o7twI"
      },
      "execution_count": null,
      "outputs": []
    },
    {
      "cell_type": "markdown",
      "source": [
        "## 변수 도전문제\n",
        "# 2장 도전1-1 정수의 각 자리수를 분리하여 출력하는 프로그램이다. 빈곳에 알맞은 답을 예측하시오.\n",
        "- 조건 : 변수에 정수 396을 저장한 후 백의자리, 십의자리, 일의자리로 분리하여 출력하시오.\n",
        "- 예 : 정수 123인 경우 백의자리 1, 십의자리 2, 일의자리 3의 결과를 추력\n",
        "- 힌트 : 몫(//), 나머지(%) 연산자 활용"
      ],
      "metadata": {
        "id": "QEKOItAG7xg4"
      }
    },
    {
      "cell_type": "code",
      "source": [
        "n=396\n",
        "print(n)\n",
        "d100=       # 백의자리\n",
        "n=n%100\n",
        "\n",
        "d10=        # 십의자리\n",
        "d1=         # 일의자리\n",
        "\n",
        "print('백의자리',d100)\n",
        "print('십의자리',d10)\n",
        "print('일의자리',d1)"
      ],
      "metadata": {
        "id": "50NBqNJswIh_"
      },
      "execution_count": null,
      "outputs": []
    },
    {
      "cell_type": "markdown",
      "source": [
        "# 2장 도전1-2 초 단위 시간을 입력받아서 몇 시간, 몇 분, 몇 초인지를 출력하는 프로그램이다. 빈곳에 알맞은 답을 예측하시오.\n",
        "- 힌트 : 목(//), 나머지(%) 연산자 활용"
      ],
      "metadata": {
        "id": "dythCH3O_yf2"
      }
    },
    {
      "cell_type": "code",
      "source": [
        "# 도전 3-2\n",
        "\n",
        "\n",
        "time=3700\n",
        "print(time,'초')\n",
        "\n",
        "minute=     #분\n",
        "second=     #초\n",
        "\n",
        "hour=       #시\n",
        "minute=     #분\n",
        "\n",
        "print('%d 시간' % hour)\n",
        "print('%d 분' % minute)\n",
        "print('%d 초' % second)"
      ],
      "metadata": {
        "id": "l3elJ1Fuwm5w"
      },
      "execution_count": null,
      "outputs": []
    },
    {
      "cell_type": "markdown",
      "source": [
        "# 2장 도전1-3 성적 프로그램\n",
        "- 조건 : 이번학기 수강하는 파이썬 과목은 성적반영비율이 아래와 같다.\n",
        "- (출석 : 10%, 과제 : 30%, 중간 : 30%, 기말 : 30%) 항목 점수가 각각 아래와 같이 있다고 가정할 때 전체 총점을 출력하는 프로그램이다. 빈곳에 알맞은 답을 예측하시오."
      ],
      "metadata": {
        "id": "B3jqCHDjAqaA"
      }
    },
    {
      "cell_type": "code",
      "source": [
        "# 도전 3-3\n",
        "\n",
        "attend=100\n",
        "homework=100\n",
        "mid=100\n",
        "final=100\n",
        "\n",
        "# 정답입력\n",
        "\n",
        "'''\n",
        "total = attend * 0.1\n",
        "total += homework * 0.3\n",
        "total += mid * 0.3\n",
        "total += final * 0.3\n",
        "'''\n",
        "print('total %d' % total)"
      ],
      "metadata": {
        "id": "nrqv7MuSxg3K"
      },
      "execution_count": null,
      "outputs": []
    },
    {
      "cell_type": "markdown",
      "source": [
        "# 2장 도전2-1 cafe 프로그램\n",
        "- 조건 : 커피 메뉴가 ame, cafelattee, cafemoca 있을때 하루에 판대 된 수량이 각각 20, 10, 10이라고 가정할 때 총 매출액을 계산하는 프로그램을 작성하시오. 또한 하루 재료비가 100,000원 일 경우 순이익을 구하시오.\n",
        "- 변수명 : 아메(ame), 카페라떼(cafelattee), 카페모카(cafemoca), 총매출(total)\n",
        "- 가격 : 아메 2000원, 카페라떼 3000원, 카페모카 4000원"
      ],
      "metadata": {
        "id": "dJwRsVowCBZh"
      }
    },
    {
      "cell_type": "code",
      "source": [
        "# 도전4\n",
        "\n"
      ],
      "metadata": {
        "colab": {
          "base_uri": "https://localhost:8080/"
        },
        "id": "eiuF8v3CzHVe",
        "outputId": "abf98cf1-2a20-4505-c092-6be00a54f646"
      },
      "execution_count": null,
      "outputs": [
        {
          "output_type": "stream",
          "name": "stdout",
          "text": [
            "total :  110000\n",
            "순이익 :  10000\n"
          ]
        }
      ]
    }
  ]
}