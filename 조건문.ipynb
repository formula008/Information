{
  "nbformat": 4,
  "nbformat_minor": 0,
  "metadata": {
    "colab": {
      "provenance": [],
      "authorship_tag": "ABX9TyMZHn35FiA8uWAygojkClFF",
      "include_colab_link": true
    },
    "kernelspec": {
      "name": "python3",
      "display_name": "Python 3"
    },
    "language_info": {
      "name": "python"
    }
  },
  "cells": [
    {
      "cell_type": "markdown",
      "metadata": {
        "id": "view-in-github",
        "colab_type": "text"
      },
      "source": [
        "<a href=\"https://colab.research.google.com/github/formula008/Information-Posco-HighSchool/blob/main/%EC%A1%B0%EA%B1%B4%EB%AC%B8.ipynb\" target=\"_parent\"><img src=\"https://colab.research.google.com/assets/colab-badge.svg\" alt=\"Open In Colab\"/></a>"
      ]
    },
    {
      "cell_type": "markdown",
      "source": [
        "# 예제5-1 회원이면 어서 오십시오 인사말 출력"
      ],
      "metadata": {
        "id": "UZekzSn_Hebj"
      }
    },
    {
      "cell_type": "code",
      "execution_count": null,
      "metadata": {
        "id": "K_c3GFbTIS3b"
      },
      "outputs": [],
      "source": [
        "#6-1\n",
        "member = input('회원이십니까?(y/n) ')\n"
      ]
    },
    {
      "cell_type": "markdown",
      "source": [
        "# 예제5-2 회원이면 어서 오십시오를 아니면 회원가입 안내말 출력"
      ],
      "metadata": {
        "id": "oBZNTefJICQU"
      }
    },
    {
      "cell_type": "code",
      "source": [
        "#6-2\n",
        "member = input('회원이십니까?(y/n) ')\n"
      ],
      "metadata": {
        "id": "Y6Hc1uQyIMR8"
      },
      "execution_count": null,
      "outputs": []
    },
    {
      "cell_type": "markdown",
      "source": [
        "# 예제5-3 입력 받은 나이에 따라 놀이동산 입장료를 출력한다.\n",
        "- 입장료 정가 : 2만원\n",
        "- 1세~6세 미만 : 무료\n",
        "- 6세~60세 미만 : 2만원\n",
        "- 60세 이상 : 입장료의 50%"
      ],
      "metadata": {
        "id": "JXfXr8V2IZR7"
      }
    },
    {
      "cell_type": "code",
      "source": [
        "#6-3\n",
        "age = int(input('나이 입력: '))\n",
        "price = 20000\n"
      ],
      "metadata": {
        "id": "iCnQ6s1kI2C0"
      },
      "execution_count": null,
      "outputs": []
    },
    {
      "cell_type": "markdown",
      "source": [
        "# 예제5-4 입력 받은 나이에 따라 놀이동산 입장료를 출력한다.\n",
        "- 입장료 정가 : 2만원\n",
        "- 1세~6세 미만 : 무료\n",
        "- 6세~60세 미만 : 2만원\n",
        "- 60세 이상 : 정가의 50%\n",
        "- 이외에 나이를 입력할 경우 오류 메시지 출력"
      ],
      "metadata": {
        "id": "ymBPstYcJCIb"
      }
    },
    {
      "cell_type": "code",
      "source": [
        "#6-4\n",
        "age = int(input('나이 입력: '))\n",
        "price = 20000\n"
      ],
      "metadata": {
        "id": "iowddf0PJfJs"
      },
      "execution_count": null,
      "outputs": []
    },
    {
      "cell_type": "markdown",
      "source": [
        "# 예제5-5 입력 받은 결재 수단에 따라 교통수단을 출력한다."
      ],
      "metadata": {
        "id": "U9wz1zphJqeD"
      }
    },
    {
      "cell_type": "code",
      "source": [
        "#6-5\n",
        "pocket = ['스마트폰', '교통카드', '현금']\n",
        "\n",
        "item = input('결재 수단 입력: ')\n"
      ],
      "metadata": {
        "id": "KJVOyNlGKbYM"
      },
      "execution_count": null,
      "outputs": []
    },
    {
      "cell_type": "markdown",
      "source": [
        "# 예제5-6 입력 받은 결재 수단에 따라 교통수단을 출력한다. 단,pocket리스트에 없는 값을 입력할 경우 오류 메시지를 출력한다."
      ],
      "metadata": {
        "id": "ffq5kGm-Kp2U"
      }
    },
    {
      "cell_type": "code",
      "source": [
        "#6-6\n",
        "pocket = ['스마트폰', '교통카드', '현금']\n",
        "\n",
        "item = input('결재 수단 입력: ')\n"
      ],
      "metadata": {
        "id": "wLZ7H9GcK2kN"
      },
      "execution_count": null,
      "outputs": []
    },
    {
      "cell_type": "markdown",
      "source": [
        "# 예제5-7 가위,바위,보 중에 하나를 입력 받아 컴퓨터가 임의로 생성한 가위,바위,보와의 대결 결과를 출력한다."
      ],
      "metadata": {
        "id": "cXxfTKjDLDGD"
      }
    },
    {
      "cell_type": "code",
      "source": [
        "#6-7\n",
        "import random\n",
        "rps = ['가위','바위','보']\n",
        "com = random.choice(rps)\n",
        "player = input('가위, 바위, 보 중에서 하나 입력: ')\n",
        "\n",
        "if player == '가위' :\n",
        "    \n",
        "elif player == '바위' :\n",
        "    \n",
        "elif player == '보' :\n",
        "\n",
        "if player in rps:\n",
        "    print('나:%s, 컴퓨터:%s ⇒ %s' % (player, com, result))\n",
        "else:\n",
        "    print('잘못 입력하셨습니다. 다시 입력하세요.')"
      ],
      "metadata": {
        "id": "N43O0nElLO3t"
      },
      "execution_count": null,
      "outputs": []
    },
    {
      "cell_type": "markdown",
      "source": [
        "# 실습5-1 년도를 입력 받아 윤년인지 여부의 결과를 출력한다."
      ],
      "metadata": {
        "id": "mQdl1_GIPcVU"
      }
    },
    {
      "cell_type": "code",
      "source": [
        "#실습6-1\n",
        "year = int(input('연도를 입력: '))\n"
      ],
      "metadata": {
        "colab": {
          "base_uri": "https://localhost:8080/"
        },
        "id": "hPFbnwR2Pj20",
        "outputId": "f84349f1-139e-4e0e-8cec-785e50f8edee"
      },
      "execution_count": null,
      "outputs": [
        {
          "output_type": "stream",
          "name": "stdout",
          "text": [
            "연도를 입력: 2000\n",
            "2000 년은 윤년\n"
          ]
        }
      ]
    },
    {
      "cell_type": "markdown",
      "source": [
        "# 실습5-2 월을 입력받아 계절을 출력한다.\n",
        "- 3~5월은 봄\n",
        "- 6~8월은 여름\n",
        "- 9~11월 가을\n",
        "- 12월~2월은 겨울"
      ],
      "metadata": {
        "id": "ARVxdWw-PsdE"
      }
    },
    {
      "cell_type": "code",
      "source": [
        "#실습6-2\n",
        "month = int(input('월 입력: '))\n"
      ],
      "metadata": {
        "colab": {
          "base_uri": "https://localhost:8080/"
        },
        "id": "Txyc_qrrQTsV",
        "outputId": "cf1d6674-133e-4d07-89a3-07eee1db4627"
      },
      "execution_count": null,
      "outputs": [
        {
          "output_type": "stream",
          "name": "stdout",
          "text": [
            "월 입력: 10\n",
            "10 월은 가을\n"
          ]
        }
      ]
    },
    {
      "cell_type": "markdown",
      "source": [
        "# 실습5-3 키와 몸무게를 입력 받아 BMI지수를 계산한 후 비만 상태를 출력한다.\n",
        "- 18미만 : 저체중\n",
        "- 18~23 미만 : 정상\n",
        "- 23~25 미만 : 과체중\n",
        "- 25이상 : 비만"
      ],
      "metadata": {
        "id": "SMAMYJ3iQw5l"
      }
    },
    {
      "cell_type": "code",
      "source": [
        "#실습6-3\n",
        "h = int(input('키 입력: '))\n",
        "w = int(input('몸무게 입력: '))\n",
        "bmi = w / ((h/100) * (h/100))\n",
        "\n",
        "\n",
        "\n",
        "print('BMI: %.2f, %s' % (bmi, result))"
      ],
      "metadata": {
        "colab": {
          "base_uri": "https://localhost:8080/"
        },
        "id": "XpGXxEt9QGa1",
        "outputId": "0bc73b73-33c4-44a4-a4ae-52276210c161"
      },
      "execution_count": null,
      "outputs": [
        {
          "output_type": "stream",
          "name": "stdout",
          "text": [
            "키 입력: 175\n",
            "몸무게 입력: 90\n",
            "BMI: 29.39, 비만\n"
          ]
        }
      ]
    },
    {
      "cell_type": "markdown",
      "source": [
        "# 실습5-4 연도와 월을 입력받아 해당년도 월의 일수를 출력한다."
      ],
      "metadata": {
        "id": "qRkWILXIRYWM"
      }
    },
    {
      "cell_type": "code",
      "source": [
        "#실습6-4\n",
        "\n",
        "day31 = [1,3,5,7,8,10,12]\n",
        "day30 = [4,6,9,11]\n",
        "year = int(input('연도 입력: '))\n",
        "month = int(input('월 입력: '))\n",
        "\n",
        "\n",
        "print('%d년 %d월은 %d까지' % (year, month, result))"
      ],
      "metadata": {
        "colab": {
          "base_uri": "https://localhost:8080/"
        },
        "id": "GrU3VuqAQACO",
        "outputId": "e4503295-65c9-4e25-c015-d5cf53a90959"
      },
      "execution_count": null,
      "outputs": [
        {
          "output_type": "stream",
          "name": "stdout",
          "text": [
            "연도 입력: 2016\n",
            "월 입력: 2\n",
            "2016년 2월은 29까지\n"
          ]
        }
      ]
    },
    {
      "cell_type": "markdown",
      "source": [
        "# 실습5-5 얼리버드 항공권 할인율을 조회하여 출력하는 파이썬 코드의 실행결과를 작성하시오."
      ],
      "metadata": {
        "id": "Vo4GbdVnS_5G"
      }
    },
    {
      "cell_type": "code",
      "source": [
        "#실습 6-5\n",
        "remain_period = int(input('몇개월 후의 여행을 계획중인가요?(3개월 이상) '))\n",
        "country = input('여행할 지역 입력(아시아,유럽,미주): ')\n",
        "if 3 <= remain_period < 6 :\n",
        "    \n",
        "elif 6 <= remain_period < 12 :\n",
        "    \n",
        "elif 12 <= remain_period :\n",
        "    \n",
        "else :\n",
        "    \n",
        "if result:\n",
        "    print('%d개월 이후의 %s 항공권은 %d%% 할인' % (remain_period, country, result))\n",
        "else:\n",
        "    print('기간 또는 지역 정보가 바르지 않거나, 할인이 지원되지 않는 지역입니다.')"
      ],
      "metadata": {
        "id": "BJ41hCBwTLc-"
      },
      "execution_count": null,
      "outputs": []
    },
    {
      "cell_type": "markdown",
      "source": [
        "# 5장 도전1-1 사용자로부터 정수를 입력 받아 짝수 및 홀수를 판별하여 출력한다.\n",
        "# 미완성된 부분을 완성하시오."
      ],
      "metadata": {
        "id": "xOKD6p6zTxzP"
      }
    },
    {
      "cell_type": "code",
      "source": [
        "num = int(input('정수 입력: '))\n",
        "  "
      ],
      "metadata": {
        "colab": {
          "base_uri": "https://localhost:8080/"
        },
        "id": "8jHNwMoLT6SF",
        "outputId": "488bb55d-7605-43d6-dc77-a52aeba4a2ab"
      },
      "execution_count": null,
      "outputs": [
        {
          "output_type": "stream",
          "name": "stdout",
          "text": [
            "정수 입력: 77\n",
            "77은 홀수\n"
          ]
        }
      ]
    },
    {
      "cell_type": "markdown",
      "source": [
        "# 5장 도전1-2 사용자로부터 입력 받은 정수가 양수, 음수, 0인지 판별하여 출력한다. \n",
        "# 미완성된 부분을 완성하시오."
      ],
      "metadata": {
        "id": "jA9aSrxwU38-"
      }
    },
    {
      "cell_type": "code",
      "source": [
        "#도전 6-1-2\n",
        "num = int(input('정수 입력: '))\n"
      ],
      "metadata": {
        "colab": {
          "base_uri": "https://localhost:8080/"
        },
        "id": "2LKYciKzVzhu",
        "outputId": "ea39138c-4250-4a89-89de-7a378e2bb46d"
      },
      "execution_count": null,
      "outputs": [
        {
          "output_type": "stream",
          "name": "stdout",
          "text": [
            "정수 입력: 77\n",
            "77은 양수\n"
          ]
        }
      ]
    },
    {
      "cell_type": "markdown",
      "source": [
        "# 5장 도전1-3 아이디와 패스워드를 입력 받아 로그인 인증 결과를 출력한다. \n",
        "# 미완성된 부분을 완성하시오.\n",
        "- 아이디(admin), 패스워드(pw1234) 둘다 맞으면 로그인 성공 메시지를 출력하고, 둘 중의 하나 이상 틀리면 오류 메시지 출력"
      ],
      "metadata": {
        "id": "bdaE4xwaXECh"
      }
    },
    {
      "cell_type": "code",
      "source": [
        "#도전 6-1-3\n",
        "id = input('아이디 입력: ')\n",
        "pwd = input('비밀번호 입력: ')\n"
      ],
      "metadata": {
        "colab": {
          "base_uri": "https://localhost:8080/"
        },
        "id": "moUci-lTXYg_",
        "outputId": "47b85773-b373-4cd2-f304-22dbf1103b8f"
      },
      "execution_count": null,
      "outputs": [
        {
          "output_type": "stream",
          "name": "stdout",
          "text": [
            "아이디 입력: admin\n",
            "비밀번호 입력: pw1234\n",
            "로그인 성공\n"
          ]
        }
      ]
    },
    {
      "cell_type": "markdown",
      "source": [
        "# 5장 도전2-1 두 수를 입력 받고, 사칙 연산자 중에 하나를 입력 받아 사칙 연산의 결과를 출력한다.\n",
        "- 첫번째수:num1, 두번째수:num2, 연산자:op, 결과:result"
      ],
      "metadata": {
        "id": "VZNeJ-ATXlA-"
      }
    },
    {
      "cell_type": "code",
      "source": [
        "#도전 6-2-1\n"
      ],
      "metadata": {
        "colab": {
          "base_uri": "https://localhost:8080/"
        },
        "id": "B-p0FzHHX82e",
        "outputId": "2502f5c5-4271-4341-bba6-742c36f70678"
      },
      "execution_count": null,
      "outputs": [
        {
          "output_type": "stream",
          "name": "stdout",
          "text": [
            "첫 번째 수 입력: 20\n",
            "첫 번째 수 입력: 30\n",
            "원하는 연산 기호 하나 입력: (+ - * /) +\n",
            "20 + 30 = 50\n"
          ]
        }
      ]
    },
    {
      "cell_type": "markdown",
      "source": [
        "# 5장 도전2-2 두번의 점수를 입력 받아 합격 및 불합격 여부를 출력한다.\n",
        "- 점수1:score1, 점수2:score2, 평균:avg\n",
        "- input()함수를 이용하여 1차 및 2차 점수를 입력\n",
        "- 조건(평균 70점 이상, 각 점수당 50점 이상(과락: 50점미만))이 맞으면 합격, 그렇지 않으면 불합격 결과 출력"
      ],
      "metadata": {
        "id": "Vx2mk_0BYZ9f"
      }
    },
    {
      "cell_type": "code",
      "source": [
        "#도전 6-2-2\n"
      ],
      "metadata": {
        "colab": {
          "base_uri": "https://localhost:8080/"
        },
        "id": "DYRUEQm4Y4C-",
        "outputId": "df36a964-7f7d-4180-dcca-669f62917e40"
      },
      "execution_count": null,
      "outputs": [
        {
          "output_type": "stream",
          "name": "stdout",
          "text": [
            "1차 점수 입력: 70\n",
            "2차 점수 입력: 95\n",
            "합격\n"
          ]
        }
      ]
    },
    {
      "cell_type": "markdown",
      "source": [
        "# 5장 도전2-3 점수를 입력 받아 학점을 출력한다.\n",
        "- 점수:score, 학점:grade\n",
        "- 90점이상 : A\n",
        "- 80점이상 ~ 90점미만 : B\n",
        "- 70점이상 ~ 80점미만 : C\n",
        "- 60점이상 ~ 70점미만 : D\n",
        "- 60점미만 : F"
      ],
      "metadata": {
        "id": "OpMmD4AaZIcP"
      }
    },
    {
      "cell_type": "code",
      "source": [
        "#도전 6-2-3\n",
        " "
      ],
      "metadata": {
        "colab": {
          "base_uri": "https://localhost:8080/"
        },
        "id": "sXTYaS71Zlc_",
        "outputId": "746b6637-f668-460c-d57f-6774e165def3"
      },
      "execution_count": null,
      "outputs": [
        {
          "output_type": "stream",
          "name": "stdout",
          "text": [
            "점수 입력: 93\n",
            "93점은 A학점\n"
          ]
        }
      ]
    }
  ]
}