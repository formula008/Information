{
  "nbformat": 4,
  "nbformat_minor": 0,
  "metadata": {
    "colab": {
      "provenance": [],
      "authorship_tag": "ABX9TyOlLAtkOsDDIwFe5lDlJT0A",
      "include_colab_link": true
    },
    "kernelspec": {
      "name": "python3",
      "display_name": "Python 3"
    },
    "language_info": {
      "name": "python"
    }
  },
  "cells": [
    {
      "cell_type": "markdown",
      "metadata": {
        "id": "view-in-github",
        "colab_type": "text"
      },
      "source": [
        "<a href=\"https://colab.research.google.com/github/formula008/Information/blob/main/01WhyPython.ipynb\" target=\"_parent\"><img src=\"https://colab.research.google.com/assets/colab-badge.svg\" alt=\"Open In Colab\"/></a>"
      ]
    },
    {
      "cell_type": "markdown",
      "source": [
        "# 학과(학부)-학번-이름 입니다.\n",
        "# 출력합니다."
      ],
      "metadata": {
        "id": "95hCHTO3TpNC"
      }
    },
    {
      "cell_type": "code",
      "execution_count": null,
      "metadata": {
        "id": "bikYtvGu80tK"
      },
      "outputs": [],
      "source": [
        "print('학과-학번-이름')"
      ]
    },
    {
      "cell_type": "markdown",
      "source": [
        "# 학과(학부)-학번-이름 입니다.\n",
        "# 출력합니다."
      ],
      "metadata": {
        "id": "XyQnCHqP952B"
      }
    },
    {
      "cell_type": "code",
      "source": [
        "a = '학과(학부)'\n",
        "b = '학번'\n",
        "c = '이름'\n",
        "\n",
        "print(a + '-' + b + '-' + c)"
      ],
      "metadata": {
        "id": "jven2RVb-NwR"
      },
      "execution_count": null,
      "outputs": []
    }
  ]
}