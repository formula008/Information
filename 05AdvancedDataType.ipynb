{
  "nbformat": 4,
  "nbformat_minor": 0,
  "metadata": {
    "colab": {
      "provenance": [],
      "authorship_tag": "ABX9TyOsqOk60BIwO9oTKGOuXWXi",
      "include_colab_link": true
    },
    "kernelspec": {
      "name": "python3",
      "display_name": "Python 3"
    },
    "language_info": {
      "name": "python"
    }
  },
  "cells": [
    {
      "cell_type": "markdown",
      "metadata": {
        "id": "view-in-github",
        "colab_type": "text"
      },
      "source": [
        "<a href=\"https://colab.research.google.com/github/formula008/Information-Posco-HighSchool/blob/main/05AdvancedDataType.ipynb\" target=\"_parent\"><img src=\"https://colab.research.google.com/assets/colab-badge.svg\" alt=\"Open In Colab\"/></a>"
      ]
    },
    {
      "cell_type": "markdown",
      "source": [
        "# 예제5-1 일반변수 사용"
      ],
      "metadata": {
        "id": "yD7fSTawYdXq"
      }
    },
    {
      "cell_type": "code",
      "execution_count": null,
      "metadata": {
        "id": "tWEE10oYYRiM"
      },
      "outputs": [],
      "source": [
        "hap=0\n",
        "a=int(input('num1:'))\n",
        "b=int(input('num2:'))\n",
        "c=int(input('num3:'))\n",
        "d=int(input('num4:'))\n",
        "\n",
        "hap=a+b+c+d\n",
        "\n",
        "print('hap',hap)"
      ]
    },
    {
      "cell_type": "markdown",
      "source": [
        "# 예제5-2 리스트 변수 사용"
      ],
      "metadata": {
        "id": "T65JwM7XYqH7"
      }
    },
    {
      "cell_type": "code",
      "source": [
        "a=[10,10,10,10]\n",
        "a[0]=int(input('num1:'))\n",
        "a[1]=int(input('num2:'))\n",
        "a[2]=int(input('num3:'))\n",
        "a[3]=int(input('num4:'))\n",
        "\n",
        "hap=a[0]+a[1]+a[2]+a[3]\n",
        "\n",
        "print('hap',hap)"
      ],
      "metadata": {
        "id": "5lrR7VFnYuiK"
      },
      "execution_count": null,
      "outputs": []
    },
    {
      "cell_type": "markdown",
      "source": [
        "## 5.6 컬렉션 자료형 실습\n",
        "# 실습5-1 다음 파이썬 코드의 결과를 예측해 보자"
      ],
      "metadata": {
        "id": "gBKv-ioHmxMG"
      }
    },
    {
      "cell_type": "code",
      "source": [
        "color=['red','yellow']\n",
        "color.append('green')\n",
        "print(color)"
      ],
      "metadata": {
        "id": "x3O-hl2rm_nt"
      },
      "execution_count": null,
      "outputs": []
    },
    {
      "cell_type": "code",
      "source": [
        "color.pop()"
      ],
      "metadata": {
        "id": "kEEtKyNhnpjW"
      },
      "execution_count": null,
      "outputs": []
    },
    {
      "cell_type": "code",
      "source": [
        "color.insert(1,'orange')\n",
        "print(color)"
      ],
      "metadata": {
        "id": "xt6QxW6Inpkr"
      },
      "execution_count": null,
      "outputs": []
    },
    {
      "cell_type": "code",
      "source": [
        "color.index('orange')"
      ],
      "metadata": {
        "id": "opRadU04n44H"
      },
      "execution_count": null,
      "outputs": []
    },
    {
      "cell_type": "code",
      "source": [
        "len(color)"
      ],
      "metadata": {
        "id": "uikI9PbWn440"
      },
      "execution_count": null,
      "outputs": []
    },
    {
      "cell_type": "markdown",
      "source": [
        "# 실습5-2 다음 파이썬 코드의 결과를 예측해 보자"
      ],
      "metadata": {
        "id": "puA1jfbapppe"
      }
    },
    {
      "cell_type": "code",
      "source": [
        "score=list(range(1,6))\n",
        "print(score)"
      ],
      "metadata": {
        "id": "JB2fTdSip7z9"
      },
      "execution_count": null,
      "outputs": []
    },
    {
      "cell_type": "code",
      "source": [
        "score[2]"
      ],
      "metadata": {
        "id": "CY3qQALTqUTF"
      },
      "execution_count": null,
      "outputs": []
    },
    {
      "cell_type": "code",
      "source": [
        "score[:3]"
      ],
      "metadata": {
        "id": "CVmMmgPoqUT_"
      },
      "execution_count": null,
      "outputs": []
    },
    {
      "cell_type": "code",
      "source": [
        "score[-1]"
      ],
      "metadata": {
        "id": "xAl7rUyeqUwM"
      },
      "execution_count": null,
      "outputs": []
    },
    {
      "cell_type": "code",
      "source": [
        "score[2:4]"
      ],
      "metadata": {
        "id": "aAtXx4ukqVoN"
      },
      "execution_count": null,
      "outputs": []
    },
    {
      "cell_type": "code",
      "source": [
        "score[3:]"
      ],
      "metadata": {
        "id": "d39AYxx8qXS9"
      },
      "execution_count": null,
      "outputs": []
    },
    {
      "cell_type": "markdown",
      "source": [
        "# 실습5-3 다음 파이썬 코드의 결과를 예측해 보자"
      ],
      "metadata": {
        "id": "ec7itk1srPhN"
      }
    },
    {
      "cell_type": "code",
      "source": [
        "A={1,2,3}\n",
        "B={3,4,5,5}\n",
        "A | B"
      ],
      "metadata": {
        "id": "Smjk7sE2ra9t"
      },
      "execution_count": null,
      "outputs": []
    },
    {
      "cell_type": "code",
      "source": [
        "A & B"
      ],
      "metadata": {
        "id": "-I7gHVAursQb"
      },
      "execution_count": null,
      "outputs": []
    },
    {
      "cell_type": "code",
      "source": [
        "A- B"
      ],
      "metadata": {
        "id": "mkH7s20_rwBs"
      },
      "execution_count": null,
      "outputs": []
    },
    {
      "cell_type": "markdown",
      "source": [
        "# 5.7 컬렉션 자료형 도전문제\n",
        "## 5장 도전1-1 다음 파이썬 코드의 실행결과가 나오도록 미완성된 부분을 완성하시오."
      ],
      "metadata": {
        "id": "iYwRUZZnr2e8"
      }
    },
    {
      "cell_type": "code",
      "source": [
        "spot=['명동','가로수길','홍대','대학로']\n",
        "select=\n",
        "print(select)"
      ],
      "metadata": {
        "colab": {
          "base_uri": "https://localhost:8080/"
        },
        "id": "7mUjAp72r6UU",
        "outputId": "01815684-b66f-4aa8-9748-3c93b6e84d6e"
      },
      "execution_count": null,
      "outputs": [
        {
          "output_type": "stream",
          "name": "stdout",
          "text": [
            "['홍대', '대학로']\n"
          ]
        }
      ]
    },
    {
      "cell_type": "markdown",
      "source": [
        "# 5장 도전1-2 파이썬 코드를 실행한 결과가 나오게 하기 위해 미완성된 부분을 완성하시오."
      ],
      "metadata": {
        "id": "y7GxB4j6st2r"
      }
    },
    {
      "cell_type": "code",
      "source": [
        "num=[50,30,70,40]\n",
        "num.\n",
        "num.\n",
        "print(num)"
      ],
      "metadata": {
        "colab": {
          "base_uri": "https://localhost:8080/"
        },
        "id": "BH7Sv3xkr6VM",
        "outputId": "908ab996-28a7-4eef-99d4-e16f29e5a7b2"
      },
      "execution_count": null,
      "outputs": [
        {
          "output_type": "stream",
          "name": "stdout",
          "text": [
            "[40, 50, 70]\n"
          ]
        }
      ]
    },
    {
      "cell_type": "markdown",
      "source": [
        "# **5장 도전 1-3 아래와 같은 실행 결과가 나오도록 미완성된 부분을 완성하시오.**"
      ],
      "metadata": {
        "id": "qdIAU51mtift"
      }
    },
    {
      "cell_type": "code",
      "source": [
        "people={100:'yang',200:'jang',300:'o'}\n",
        "list(people.  )"
      ],
      "metadata": {
        "colab": {
          "base_uri": "https://localhost:8080/"
        },
        "id": "kJ_-39jptxAb",
        "outputId": "6e30ab8b-b772-4f9f-b52c-b5c4ffcff400"
      },
      "execution_count": null,
      "outputs": [
        {
          "output_type": "execute_result",
          "data": {
            "text/plain": [
              "[100, 200, 300]"
            ]
          },
          "metadata": {},
          "execution_count": 31
        }
      ]
    },
    {
      "cell_type": "code",
      "source": [
        "list(people.  )"
      ],
      "metadata": {
        "colab": {
          "base_uri": "https://localhost:8080/"
        },
        "id": "pfs9zDJCuEUr",
        "outputId": "de317217-7f8b-4706-d46b-3791954816d6"
      },
      "execution_count": null,
      "outputs": [
        {
          "output_type": "execute_result",
          "data": {
            "text/plain": [
              "['yang', 'jang', 'o']"
            ]
          },
          "metadata": {},
          "execution_count": 32
        }
      ]
    },
    {
      "cell_type": "code",
      "source": [
        "list(people.  )"
      ],
      "metadata": {
        "colab": {
          "base_uri": "https://localhost:8080/"
        },
        "id": "tKO5KK_-uHC7",
        "outputId": "e191a1eb-0216-4e1c-afc4-b1635f6d811a"
      },
      "execution_count": null,
      "outputs": [
        {
          "output_type": "execute_result",
          "data": {
            "text/plain": [
              "[(100, 'yang'), (200, 'jang'), (300, 'o')]"
            ]
          },
          "metadata": {},
          "execution_count": 33
        }
      ]
    },
    {
      "cell_type": "code",
      "source": [
        "people."
      ],
      "metadata": {
        "colab": {
          "base_uri": "https://localhost:8080/",
          "height": 35
        },
        "id": "vx2SFmrcuSNT",
        "outputId": "5f576482-8c49-4a6a-c221-a375802c3117"
      },
      "execution_count": null,
      "outputs": [
        {
          "output_type": "execute_result",
          "data": {
            "text/plain": [
              "'jang'"
            ],
            "application/vnd.google.colaboratory.intrinsic+json": {
              "type": "string"
            }
          },
          "metadata": {},
          "execution_count": 34
        }
      ]
    },
    {
      "cell_type": "code",
      "source": [
        "(people[100]) #100삭제"
      ],
      "metadata": {
        "id": "ibRiXeqnuYQL"
      },
      "execution_count": null,
      "outputs": []
    },
    {
      "cell_type": "code",
      "source": [
        "print(people)"
      ],
      "metadata": {
        "colab": {
          "base_uri": "https://localhost:8080/"
        },
        "id": "zENHOpEtusRz",
        "outputId": "baeb6f87-9a0f-4599-ff84-9c0c65b6e1f9"
      },
      "execution_count": null,
      "outputs": [
        {
          "output_type": "stream",
          "name": "stdout",
          "text": [
            "{200: 'jang', 300: 'o'}\n"
          ]
        }
      ]
    },
    {
      "cell_type": "markdown",
      "source": [
        "## 5장 도전2-1 리스트 조작 함수 활용\n",
        "## 아래의 문제를 1번부터 7번까지 차례대로 수행하고, 각 단계별 출력결과를 보고 빈곳에 알맞은 답을 예측하시오.\n",
        "- 조건\n",
        "- 1) 학생이 3명[홍일동,홍이동,홍삼동]인 과에 홍사동이 편입을 했다. \"홍사동\"을 리스트에 추가해보자\n",
        "- 2) 위 리스트에 동명이인 홍이동이 새로 편입을 했다고 가정하고 요소 \"홍이동\"뒤에 \"홍이동\"을 추가해보자\n",
        "- 3) \"홍이동\"이 몇 명인지 출력하시오\n",
        "- 4) 현재 출석부를 역순으로 출력하시오\n",
        "- 5) \"홍일동\"이 다른 과로 전과를 하였다. \"홍일동\"을 찾아 삭제하시오.\n",
        "- 6) 현재 출석부를 내림차순으로 정렬하시오.\n",
        "- 7) 현재 남아 있는 학생의 인원수를 구하시오."
      ],
      "metadata": {
        "id": "XPqiukveZgxU"
      }
    },
    {
      "cell_type": "code",
      "source": [
        "name=['홍일동','홍이동','홍삼동']\n",
        "print(name)"
      ],
      "metadata": {
        "id": "s1zca_OAfB9S"
      },
      "execution_count": null,
      "outputs": []
    },
    {
      "cell_type": "code",
      "source": [
        "#1)\n"
      ],
      "metadata": {
        "colab": {
          "base_uri": "https://localhost:8080/"
        },
        "id": "-16yBYdRgy0_",
        "outputId": "ffa1919b-315c-412c-8ffb-69fbd01395d1"
      },
      "execution_count": null,
      "outputs": [
        {
          "output_type": "stream",
          "name": "stdout",
          "text": [
            "1 ['홍일동', '홍이동', '홍삼동', '홍사동']\n"
          ]
        }
      ]
    },
    {
      "cell_type": "code",
      "source": [
        "#2)\n"
      ],
      "metadata": {
        "colab": {
          "base_uri": "https://localhost:8080/"
        },
        "id": "IgqVW9Ksg1ZI",
        "outputId": "86d39364-d1d9-47a0-f413-f53d42c74a99"
      },
      "execution_count": null,
      "outputs": [
        {
          "output_type": "stream",
          "name": "stdout",
          "text": [
            "2 ['홍일동', '홍이동', '홍이동', '홍삼동', '홍사동']\n"
          ]
        }
      ]
    },
    {
      "cell_type": "code",
      "source": [
        "#3)\n"
      ],
      "metadata": {
        "colab": {
          "base_uri": "https://localhost:8080/"
        },
        "id": "jG8be6sIhCen",
        "outputId": "f03ef0aa-268e-41e1-d5ce-83927ef38e29"
      },
      "execution_count": null,
      "outputs": [
        {
          "output_type": "stream",
          "name": "stdout",
          "text": [
            "3 2\n"
          ]
        }
      ]
    },
    {
      "cell_type": "code",
      "source": [
        "#4)\n"
      ],
      "metadata": {
        "colab": {
          "base_uri": "https://localhost:8080/"
        },
        "id": "nU4mLTWShbRh",
        "outputId": "ac4e8789-7260-4b42-d4cd-b927ab4c5946"
      },
      "execution_count": null,
      "outputs": [
        {
          "output_type": "stream",
          "name": "stdout",
          "text": [
            "4 ['홍사동', '홍삼동', '홍이동', '홍이동', '홍일동']\n"
          ]
        }
      ]
    },
    {
      "cell_type": "code",
      "source": [
        "#5)\n"
      ],
      "metadata": {
        "colab": {
          "base_uri": "https://localhost:8080/"
        },
        "id": "-NiBD4HJhbSe",
        "outputId": "e8de2448-8d0b-4a70-c48a-6ebdd7e2b87f"
      },
      "execution_count": null,
      "outputs": [
        {
          "output_type": "stream",
          "name": "stdout",
          "text": [
            "5 ['홍사동', '홍삼동', '홍이동', '홍이동']\n"
          ]
        }
      ]
    },
    {
      "cell_type": "code",
      "source": [
        "#6)\n"
      ],
      "metadata": {
        "colab": {
          "base_uri": "https://localhost:8080/"
        },
        "id": "DX0saYYlin1Z",
        "outputId": "6baf4e2c-bb81-4059-e57f-7679efd42bf2"
      },
      "execution_count": null,
      "outputs": [
        {
          "output_type": "stream",
          "name": "stdout",
          "text": [
            "6 ['홍이동', '홍이동', '홍삼동', '홍사동']\n"
          ]
        }
      ]
    },
    {
      "cell_type": "code",
      "source": [
        "#7)\n"
      ],
      "metadata": {
        "colab": {
          "base_uri": "https://localhost:8080/"
        },
        "id": "-JrdlumaixVH",
        "outputId": "14cf2d54-f95b-4cf4-cd21-91a0de813743"
      },
      "execution_count": null,
      "outputs": [
        {
          "output_type": "stream",
          "name": "stdout",
          "text": [
            "7 4\n"
          ]
        }
      ]
    },
    {
      "cell_type": "markdown",
      "source": [
        "# 5장 도전2-2 주소록에 친구를 등록하고, 친구를 이름으로 검색한 후 연락처를 출력하는 프로그램을 작성하시오. 실행결과를 참고하여 문제를 해결하시오.\n",
        "- 조건\n",
        "- 1) 딕셔너리 자료구조를 사용하여 친구의 이름과 연락처를 저장한다.(딕셔너리명 : addr, 교재에 있는 내용)\n",
        "- 2) 딕셔너리에서 전체 친구의 이름만 검색하여 리스트로 변환한 후 출력한다.\n",
        "- 3) 찾는 친구가 있으면 연락처를 출력하고 없으면 에러 메시지를 출력한다.\n",
        "- 4) 찾는 친구의 이름은 사용자로부터 입력 받아 처리한다.(변수명 : name)"
      ],
      "metadata": {
        "id": "UJSRYNrrjnM2"
      }
    },
    {
      "cell_type": "code",
      "source": [
        "# 도전 2-2\n",
        "\n",
        "addr={}\n",
        "\n",
        "addr['최재원']='010-1111-1234'\n",
        "addr['최지윤']='010-2222-1234'\n",
        "addr['김연수']='010-3333-1234'\n",
        "addr['김연우']='010-4444-1234'\n",
        "addr['김가현']='010-5555-1234'\n",
        "addr['김혜현']='010-6666-1234'\n",
        "\n",
        "\n",
        "print(addr)\n",
        "print()\n"
      ],
      "metadata": {
        "colab": {
          "base_uri": "https://localhost:8080/"
        },
        "id": "iQxxsHp7ixWA",
        "outputId": "0ee95042-42c2-4895-dc25-1956892a468a"
      },
      "execution_count": null,
      "outputs": [
        {
          "output_type": "stream",
          "name": "stdout",
          "text": [
            "{'최재원': '010-1111-1234', '최지윤': '010-2222-1234', '김연수': '010-3333-1234', '김연우': '010-4444-1234', '김가현': '010-5555-1234', '김혜현': '010-6666-1234'}\n",
            "\n",
            "['최재원', '최지윤', '김연수', '김연우', '김가현', '김혜현']\n",
            "search name : 최재운\n",
            "not Found\n"
          ]
        }
      ]
    },
    {
      "cell_type": "markdown",
      "source": [
        "5장 도전2-3 동아리 A,B에 다음과 같이 학생들이 가입이 되어 있다. 실행결과를 참고하여 문제를 해결하시오.\n",
        "- clubA = {'kim','park','hwang'}\n",
        "- clubB = {'park','lee','choi'}\n",
        "\n",
        "- 조건\n",
        "- 1) 세트 자료구조를 사용한다.\n",
        "- 2) 동아리에 가입한 학생들의 모든 명단을 clubC에 저장한 후에 출력한다.\n",
        "- 3) A,B 동아리에 둘 다 가입한 학생의 명단을 출력하시오.\n",
        "- 4) A 동아리에서 B 동아리에 가입한 학생들의 명단을 제외하고 출력하시오.\n",
        "- 5) B 동아리에서 A 동아리에 가입한 학생들의 명단을 제외하고 출력하시오.\n",
        "- 6) A 동아리에 'yang'회원이 새로 가입했다.\n",
        "- 7) B 동아리 'lee'회원이 탈퇴했다.\n",
        "- 8) A,B 동아리 회원들을 각각 출력하시오."
      ],
      "metadata": {
        "id": "2Qqo9BXInjTF"
      }
    },
    {
      "cell_type": "code",
      "source": [
        "# 도전 2-3\n",
        "clubA={'kim', 'park','hwang'}\n",
        "clubB={'park', 'lee', 'choi'}"
      ],
      "metadata": {
        "id": "Z-AGtYS4naJG"
      },
      "execution_count": null,
      "outputs": []
    },
    {
      "cell_type": "code",
      "source": [
        "#2\n"
      ],
      "metadata": {
        "colab": {
          "base_uri": "https://localhost:8080/"
        },
        "id": "Gj3vy3_ZnaKZ",
        "outputId": "1e3910cf-ac52-4abf-b9d5-43a61bb7e6c9"
      },
      "execution_count": null,
      "outputs": [
        {
          "output_type": "stream",
          "name": "stdout",
          "text": [
            "{'lee', 'hwang', 'kim', 'park', 'choi'}\n"
          ]
        }
      ]
    },
    {
      "cell_type": "code",
      "source": [
        "#3\n"
      ],
      "metadata": {
        "colab": {
          "base_uri": "https://localhost:8080/"
        },
        "id": "r4udsZh0pUsL",
        "outputId": "529ea524-a4e4-4e01-aa1d-780d9f8d9f00"
      },
      "execution_count": null,
      "outputs": [
        {
          "output_type": "stream",
          "name": "stdout",
          "text": [
            "{'park'}\n"
          ]
        }
      ]
    },
    {
      "cell_type": "code",
      "source": [
        "#4\n"
      ],
      "metadata": {
        "colab": {
          "base_uri": "https://localhost:8080/"
        },
        "id": "UQ4VLFT3pYMK",
        "outputId": "06e4836a-0e3c-471a-d1a2-3d9aae848f98"
      },
      "execution_count": null,
      "outputs": [
        {
          "output_type": "stream",
          "name": "stdout",
          "text": [
            "{'hwang', 'kim'}\n"
          ]
        }
      ]
    },
    {
      "cell_type": "code",
      "source": [
        "#5\n"
      ],
      "metadata": {
        "colab": {
          "base_uri": "https://localhost:8080/"
        },
        "id": "soJzD83vpa_z",
        "outputId": "67f0c88e-98bd-4486-ec95-39e06b2938e3"
      },
      "execution_count": null,
      "outputs": [
        {
          "output_type": "stream",
          "name": "stdout",
          "text": [
            "{'lee', 'choi'}\n"
          ]
        }
      ]
    },
    {
      "cell_type": "code",
      "source": [
        "#6\n"
      ],
      "metadata": {
        "id": "ea7EK7P-pdeu"
      },
      "execution_count": null,
      "outputs": []
    },
    {
      "cell_type": "code",
      "source": [
        "#7\n"
      ],
      "metadata": {
        "id": "mVP8pIKGpfyL"
      },
      "execution_count": null,
      "outputs": []
    },
    {
      "cell_type": "code",
      "source": [
        "#8\n",
        "print(clubA)\n",
        "print(clubB)"
      ],
      "metadata": {
        "colab": {
          "base_uri": "https://localhost:8080/"
        },
        "id": "IRWYgWrHpiVX",
        "outputId": "2c1429c8-3cd2-427f-8bf0-6cbf55b43bf0"
      },
      "execution_count": null,
      "outputs": [
        {
          "output_type": "stream",
          "name": "stdout",
          "text": [
            "{'yang', 'hwang', 'kim', 'park'}\n",
            "{'choi', 'park'}\n"
          ]
        }
      ]
    }
  ]
}